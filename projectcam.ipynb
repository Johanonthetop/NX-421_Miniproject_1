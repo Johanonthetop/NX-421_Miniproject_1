{
 "cells": [
  {
   "cell_type": "markdown",
   "id": "5f10c6ad-0c1e-4805-8ef9-9c201461efe5",
   "metadata": {},
   "source": [
    "### NX-421: Neural signals and signal processing\n",
    "# Miniproject 1 - Variant 3\n",
    "\n",
    "### Camille Dorster, Toufan Kashaev, Johan Bordet"
   ]
  },
  {
   "cell_type": "markdown",
   "id": "02fa385f-b6c3-433d-a0c9-31e8a8333b2d",
   "metadata": {},
   "source": [
    "### Dataset Description\n",
    "The dataset used is a snippet issued from the Human Connectome Project. In particular, this task was adapted from a previously developed one by Buckner and colleagues (Buckner et al. 2011 [2]). Participants are shown visual cues asking them to either tap their left or right fingers, or squeeze their left or right toes, or move their tongue, the goal being to map motor areas. Each block of a movement type lasted ~12 seconds (10 movements), and is preceded by a ~3 second cue. In each of the two runs, there are 13 blocks, with 2 of tongue movements, 4 of hand movements (2 right and 2 left), and 4 of foot movements (2 right and 2 left). In addition, there are 3 15-second fixation blocks per run."
   ]
  },
  {
   "cell_type": "markdown",
   "id": "53021aee-a0ff-4947-b2d4-a66b5936fa0a",
   "metadata": {
    "slideshow": {
     "slide_type": "slide"
    }
   },
   "source": [
    "### Importing the relevant libraries"
   ]
  },
  {
   "cell_type": "code",
   "execution_count": 1,
   "id": "7451d332-daec-4e17-9397-0c4931f0f7ee",
   "metadata": {},
   "outputs": [],
   "source": [
    "import sys\n",
    "import os\n",
    "\n",
    "#####################\n",
    "# Import of utils.py functions\n",
    "#####################\n",
    "notebook_dir = os.path.abspath(\"\")\n",
    "parent_dir = os.path.abspath(os.path.join(notebook_dir, '..'))\n",
    "sys.path.append(parent_dir)\n",
    "sys.path.append('.')\n",
    "from utils import loadFSL, FSLeyesServer, mkdir_no_exist, interactive_MCQ\n",
    "\n",
    "####################\n",
    "# DIPY_HOME should be set prior to import of dipy to make sure all downloads point to the right folder\n",
    "####################\n",
    "os.environ[\"DIPY_HOME\"] = \"/home/jovyan/data\"\n",
    "\n",
    "#############################\n",
    "# Loading fsl and freesurfer within Neurodesk\n",
    "# You can find the list of available other modules by clicking on the \"Softwares\" tab on the left\n",
    "#############################\n",
    "import lmod\n",
    "await lmod.purge(force=True)\n",
    "await lmod.load('fsl/6.0.7.4')\n",
    "await lmod.load('freesurfer/7.4.1')\n",
    "await lmod.list()\n",
    "\n",
    "####################\n",
    "# Setup FSL path\n",
    "####################\n",
    "loadFSL()\n",
    "\n",
    "import fsl.wrappers\n",
    "from fsl.wrappers import fslmaths\n",
    "\n",
    "import mne_nirs\n",
    "import nilearn\n",
    "from nilearn.datasets import fetch_development_fmri\n",
    "from nilearn.image import load_img, new_img_like, concat_imgs\n",
    "from nilearn.masking import compute_epi_mask, apply_mask, unmask\n",
    "\n",
    "import mne\n",
    "import mne_nirs\n",
    "import dipy\n",
    "from dipy.data import fetch_bundles_2_subjects, read_bundles_2_subjects\n",
    "import xml.etree.ElementTree as ET\n",
    "import os.path as op\n",
    "import nibabel as nib\n",
    "import glob\n",
    "\n",
    "import ants\n",
    "\n",
    "import openneuro\n",
    "from mne.datasets import sample\n",
    "from mne_bids import BIDSPath, read_raw_bids, print_dir_tree, make_report\n",
    "\n",
    "\n",
    "# Useful imports to define the direct download function below\n",
    "import requests\n",
    "import urllib.request\n",
    "from tqdm import tqdm\n",
    "\n",
    "\n",
    "# FSL function wrappers which we will call from python directly\n",
    "from fsl.wrappers import fast, bet\n",
    "from fsl.wrappers.misc import fslroi\n",
    "from fsl.wrappers import flirt\n",
    "\n",
    "# General purpose imports to handle paths, files etc\n",
    "import glob\n",
    "import pandas as pd\n",
    "import numpy as np\n",
    "import json\n",
    "import subprocess\n",
    "\n",
    "# Utility function used to load json from file name\n",
    "def get_json_from_file(fname):\n",
    "    f = open(fname)\n",
    "    data = json.load(f)\n",
    "    f.close()\n",
    "    return data"
   ]
  },
  {
   "cell_type": "code",
   "execution_count": 2,
   "id": "7cb43e23-45b0-4970-8b07-4aefbdd93e03",
   "metadata": {},
   "outputs": [
    {
     "name": "stderr",
     "output_type": "stream",
     "text": [
      "Gtk-Message: 13:08:13.771: Failed to load module \"canberra-gtk-module\"\n"
     ]
    }
   ],
   "source": [
    "%gui wx"
   ]
  },
  {
   "cell_type": "markdown",
   "id": "98a9b894-3fcd-4475-99af-ca4d3dc0d208",
   "metadata": {},
   "source": [
    "### Starting FSLeyes"
   ]
  },
  {
   "cell_type": "code",
   "execution_count": 3,
   "id": "2f653ce6-041c-4119-8d46-8bda6b096f67",
   "metadata": {},
   "outputs": [
    {
     "name": "stderr",
     "output_type": "stream",
     "text": [
      "13:08:16: Debug: Adding duplicate image handler for 'Windows bitmap file'\n",
      "13:08:16: Debug: Adding duplicate animation handler for '1' type\n",
      "13:08:16: Debug: Adding duplicate animation handler for '2' type\n",
      "13:08:16: Debug: Adding duplicate image handler for 'Windows bitmap file'\n",
      "13:08:16: Debug: Adding duplicate animation handler for '1' type\n",
      "13:08:16: Debug: Adding duplicate animation handler for '2' type\n",
      "\n",
      "(ipykernel_launcher.py:3654): Gtk-CRITICAL **: 13:08:16.604: gtk_window_resize: assertion 'height > 0' failed\n"
     ]
    }
   ],
   "source": [
    "################\n",
    "# Start FSLeyes\n",
    "################\n",
    "fsleyesDisplay = FSLeyesServer()\n",
    "fsleyesDisplay.show()"
   ]
  },
  {
   "cell_type": "markdown",
   "id": "fc283d9e-5b85-4d57-b9d2-e78b7f86dfc6",
   "metadata": {},
   "source": [
    "### Preparing the paths and structure of the data in folders"
   ]
  },
  {
   "cell_type": "code",
   "execution_count": 4,
   "id": "6fdf1e55-b9f2-4f2a-aace-4ff41e35653b",
   "metadata": {},
   "outputs": [],
   "source": [
    "sample_path = \"/home/jovyan/data\"\n",
    "dataset_id = 'mydataset'\n",
    "subject_id = '101410' \n",
    "subject_dir = 'sub-{}'.format(subject_id)\n",
    "\n",
    "bids_root = op.join(sample_path, dataset_id)\n",
    "deriv_root = op.join(bids_root, 'derivatives')\n",
    "preproc_root = op.join(bids_root, 'derivatives','preprocessed_data')\n",
    "preproc_subject_path = op.join(preproc_root, subject_dir)\n",
    "preproc_anat_path = op.join(preproc_root, subject_dir, 'anat')\n",
    "preproc_func_path = op.join(preproc_root, subject_dir, 'func')\n",
    "preproc_fmap_path = op.join(preproc_root, subject_dir, 'fmap')\n",
    "\n",
    "###################\n",
    "# Create folders relevant for preprocessing.\n",
    "###################\n",
    "mkdir_no_exist(sample_path)\n",
    "mkdir_no_exist(bids_root)\n",
    "mkdir_no_exist(deriv_root)\n",
    "mkdir_no_exist(preproc_root)\n",
    "mkdir_no_exist(preproc_subject_path)\n",
    "mkdir_no_exist(preproc_anat_path)\n",
    "mkdir_no_exist(preproc_func_path)\n",
    "mkdir_no_exist(preproc_fmap_path)"
   ]
  },
  {
   "cell_type": "code",
   "execution_count": 6,
   "id": "cf7c2f38-8b9e-4e3d-8992-5024f081b42e",
   "metadata": {},
   "outputs": [
    {
     "name": "stdout",
     "output_type": "stream",
     "text": [
      "|mydataset/\n",
      "|--- derivatives/\n",
      "|------ preprocessed_data/\n",
      "|--------- sub-101410/\n",
      "|------------ anat/\n",
      "|------------ fmap/\n",
      "|------------ func/\n",
      "|--- sub-101410/\n",
      "|------ anat/\n",
      "|--------- sub-101410_T1w.nii.gz\n",
      "|------ func/\n",
      "|--------- events_LR.csv\n",
      "|--------- events_RL.csv\n",
      "|--------- sub-101410_tfMRI_MOTOR_LR.nii\n",
      "|--------- sub-101410_tfMRI_MOTOR_RL.nii\n",
      "|--------- task-motor_bold.json\n",
      "|--------- .ipynb_checkpoints/\n"
     ]
    }
   ],
   "source": [
    "print_dir_tree(bids_root, max_depth=4)"
   ]
  },
  {
   "cell_type": "markdown",
   "id": "fa1260e4-9962-484f-8da3-f0ef1a3bb0f0",
   "metadata": {},
   "source": [
    "## Step 1 : skull stripping"
   ]
  },
  {
   "cell_type": "markdown",
   "id": "7e6c1b34-c999-4711-90da-4b671913abd7",
   "metadata": {},
   "source": [
    "### Applying BET to get the betted brain mask"
   ]
  },
  {
   "cell_type": "code",
   "execution_count": 6,
   "id": "7a38a969-f44c-42d7-9100-8411f21c08cd",
   "metadata": {},
   "outputs": [
    {
     "name": "stdout",
     "output_type": "stream",
     "text": [
      "Done with BET.\n"
     ]
    }
   ],
   "source": [
    "resulting_mask_path = op.join(preproc_anat_path, 'sub-{}_T1w_mask'.format(subject_id))\n",
    "anatomical_path = op.join(bids_root, subject_dir, 'anat', 'sub-{}_T1w.nii.gz'.format(subject_id))\n",
    "betted_brain_path = op.join(preproc_anat_path, 'sub-{}_T1w'.format(subject_id))\n",
    "\n",
    "os.system('bet {} {} -m {}'.format(anatomical_path, betted_brain_path, '-R')) # Robust parameter used\n",
    "\n",
    "print(\"Done with BET.\")"
   ]
  },
  {
   "cell_type": "code",
   "execution_count": 7,
   "id": "1592d713-0163-43d2-9e91-00d51bfa6041",
   "metadata": {},
   "outputs": [],
   "source": [
    "# Display the mask\n",
    "fsleyesDisplay.load(resulting_mask_path)"
   ]
  },
  {
   "cell_type": "markdown",
   "id": "1cb63092-7423-41cb-90fa-3a6438a7675f",
   "metadata": {},
   "source": [
    "### Applying the betted brain mask to the original brain"
   ]
  },
  {
   "cell_type": "code",
   "execution_count": 8,
   "id": "9ac41fce-120f-488b-8d4a-05c76f3da1bf",
   "metadata": {},
   "outputs": [
    {
     "name": "stdout",
     "output_type": "stream",
     "text": [
      "Mask applied.\n"
     ]
    }
   ],
   "source": [
    "anatomical_path = op.join(bids_root, subject_dir, 'anat', 'sub-{}_T1w.nii.gz'.format(subject_id)) # The original brain\n",
    "betted_brain_path = op.join(preproc_anat_path, 'sub-{}_T1w.nii.gz'.format(subject_id)) # The brain without skull is in the derivatives folder\n",
    "resulting_mask_path = op.join(preproc_anat_path, 'sub-{}_T1w_mask'.format(subject_id)) # The mask to use\n",
    "\n",
    "os.system('fslmaths {} -mas {} {}'.format(anatomical_path, resulting_mask_path, betted_brain_path))\n",
    "\n",
    "print(\"Mask applied.\")"
   ]
  },
  {
   "cell_type": "code",
   "execution_count": 9,
   "id": "fbd25ea1-c0b5-4e65-8b7e-201d2393a9da",
   "metadata": {},
   "outputs": [
    {
     "name": "stderr",
     "output_type": "stream",
     "text": [
      "\n",
      "(ipykernel_launcher.py:12663): Gdk-WARNING **: 22:21:32.753: gdkdrawable-x11.c:952 drawable is not a pixmap or window\n"
     ]
    }
   ],
   "source": [
    "# Display the betted brain\n",
    "fsleyesDisplay.resetOverlays()\n",
    "fsleyesDisplay.load(betted_brain_path)"
   ]
  },
  {
   "cell_type": "markdown",
   "id": "181cd95a-4d6c-4d25-8e96-57c46df2f9f0",
   "metadata": {},
   "source": [
    "## Step 2 : tissue segmentation"
   ]
  },
  {
   "cell_type": "code",
   "execution_count": 10,
   "id": "3a67ed28-d5e6-4674-9b8d-9d9360b3a90c",
   "metadata": {},
   "outputs": [
    {
     "data": {
      "text/plain": [
       "{}"
      ]
     },
     "execution_count": 10,
     "metadata": {},
     "output_type": "execute_result"
    }
   ],
   "source": [
    "fast_target = betted_brain_path\n",
    "\n",
    "[os.remove(f) for f in glob.glob(op.join(preproc_anat_path, '*fast*'))] # Just to clean the directory in between runs of the cell\n",
    "segmentation_path = op.join(preproc_anat_path, 'sub-101410_T1w_fast')\n",
    "fast(imgs=[fast_target], out=segmentation_path, n_classes=3)"
   ]
  },
  {
   "cell_type": "code",
   "execution_count": null,
   "id": "5e146e99-1bcc-4bf9-9609-803caba1a276",
   "metadata": {},
   "outputs": [],
   "source": [
    "# Display the segmented brain\n",
    "fsleyesDisplay.resetOverlays()\n",
    "fsleyesDisplay.load(betted_brain_path)\n",
    "fsleyesDisplay.load(glob.glob(op.join(preproc_anat_path,'*pve_0*'))[0])\n",
    "fsleyesDisplay.load(glob.glob(op.join(preproc_anat_path,'*pve_1*'))[0])\n",
    "fsleyesDisplay.load(glob.glob(op.join(preproc_anat_path,'*pve_2*'))[0])\n",
    "fsleyesDisplay.displayCtx.getOpts(fsleyesDisplay.overlayList[1]).cmap = 'Red'\n",
    "fsleyesDisplay.displayCtx.getOpts(fsleyesDisplay.overlayList[2]).cmap = 'Green'\n",
    "fsleyesDisplay.displayCtx.getOpts(fsleyesDisplay.overlayList[3]).cmap = 'Blue'"
   ]
  },
  {
   "cell_type": "markdown",
   "id": "5524e83f-039d-4322-abbe-92499eb911ad",
   "metadata": {},
   "source": [
    "## Step 3 : Variance normalization and concatenation of the runs"
   ]
  },
  {
   "cell_type": "code",
   "execution_count": 6,
   "id": "f597849a-7292-4819-88d3-f262d1bea321",
   "metadata": {},
   "outputs": [],
   "source": [
    "LR_tfMRI_data_path = op.join(bids_root, 'sub-101410', 'func', 'sub-{}_tfMRI_MOTOR_LR'.format(subject_id))\n",
    "RL_tfMRI_data_path = op.join(bids_root, 'sub-101410', 'func', 'sub-{}_tfMRI_MOTOR_RL'.format(subject_id))\n",
    "\n",
    "concat_tfMRI_data_path = op.join(preproc_func_path, 'sub-{}_task-motor_concat_scaled.nii.gz'.format(subject_id))"
   ]
  },
  {
   "cell_type": "code",
   "execution_count": 8,
   "id": "7c22f8fc-7086-4281-8454-33ae0253f493",
   "metadata": {},
   "outputs": [],
   "source": [
    "# $ python -m pip install fmriprep-docke\n",
    "run_files = [\n",
    "    LR_tfMRI_data_path + '.nii',\n",
    "    RL_tfMRI_data_path + '.nii',\n",
    "]\n",
    "\n",
    "# Mask to select only the brain\n",
    "runs = [load_img(r) for r in run_files]\n",
    "mask = compute_epi_mask(runs[0])\n",
    "for run in runs[1:]:\n",
    "    mask = new_img_like(mask, (mask.get_fdata()>0) & (compute_epi_mask(run).get_fdata()>0))\n",
    "\n",
    "scaled_runs = []\n",
    "for run in runs:\n",
    "    # Mask to get (T, V)\n",
    "    X = apply_mask(run, mask)                # shape (T, V)\n",
    "    # # Mean & demean of the whole run\n",
    "    # mu = X.mean()\n",
    "    # X = X - mu\n",
    "    # Variance of the run & rescale to unit variance\n",
    "    # ddof=1 for sample variance; add tiny eps for numerical safety\n",
    "    var = X.var(ddof=1)\n",
    "    X = X / np.sqrt(var + 1e-8)\n",
    "    # Put back to 4D image with original affine/header\n",
    "    scaled_img = unmask(X, mask)\n",
    "    scaled_runs.append(scaled_img)\n",
    "\n",
    "# Concatenate timewise AFTER scaling\n",
    "concat_img = concat_imgs(scaled_runs)  # -> sub-101410_task-motor_concat_scaled.nii.gz (in memory)\n",
    "nib.save(concat_img, concat_tfMRI_data_path)\n"
   ]
  },
  {
   "cell_type": "code",
   "execution_count": 9,
   "id": "b1116fd6-dd12-44e8-ad89-4ccdf3440c77",
   "metadata": {},
   "outputs": [
    {
     "name": "stderr",
     "output_type": "stream",
     "text": [
      "\n",
      "(ipykernel_launcher.py:2139): Gdk-WARNING **: 12:55:32.678: gdkdrawable-x11.c:952 drawable is not a pixmap or window\n"
     ]
    }
   ],
   "source": [
    "fsleyesDisplay.resetOverlays()\n",
    "fsleyesDisplay.load(concat_tfMRI_data_path)"
   ]
  },
  {
   "cell_type": "markdown",
   "id": "de354d7e-8be7-47be-b7e7-ac69ab225052",
   "metadata": {},
   "source": [
    "## Step 4 : motion correction"
   ]
  },
  {
   "cell_type": "code",
   "execution_count": 7,
   "id": "7f434034-9357-4790-adb0-ad5d1b27f662",
   "metadata": {},
   "outputs": [
    {
     "name": "stderr",
     "output_type": "stream",
     "text": [
      "Processed data will be saved as /home/jovyan/data/mydataset/derivatives/preprocessed_data/sub-101410/func/sub-101410_tfMRI_MOTOR_LR_moco\n",
      "\n",
      "McFLIRT v 2.0 - FMRI motion correction\n",
      "\n",
      "Reading time series... \n",
      "first iteration - 8mm scaling, set tolerance\n",
      "Rescaling reference volume [284] to 8 mm pixels\n",
      "Registering volumes ... [285][286][287][288][289][290][291][292][293][294][295][296][297][298][299][300][301][302][303][304][305][306][307][308][309][310][311][312][313][314][315][316][317][318][319][320][321][322][323][324][325][326][327][328][329][330][331][332][333][334][335][336][337][338][339][340][341][342][343][344][345][346][347][348][349][350][351][352][353][354][355][356][357][358][359][360][361][362][363][364][365][366][367][368][369][370][371][372][373][374][375][376][377][378][379][380][381][382][383][384][385][386][387][388][389][390][391][392][393][394][395][396][397][398][399][400][401][402][403][404][405][406][407][408][409][410][411][412][413][414][415][416][417][418][419][420][421][422][423][424][425][426][427][428][429][430][431][432][433][434][435][436][437][438][439][440][441][442][443][444][445][446][447][448][449][450][451][452][453][454][455][456][457][458][459][460][461][462][463][464][465][466][467][468][469][470][471][472][473][474][475][476][477][478][479][480][481][482][483][484][485][486][487][488][489][490][491][492][493][494][495][496][497][498][499][500][501][502][503][504][505][506][507][508][509][510][511][512][513][514][515][516][517][518][519][520][521][522][523][524][525][526][527][528][529][530][531][532][533][534][535][536][537][538][539][540][541][542][543][544][545][546][547][548][549][550][551][552][553][554][555][556][557][558][559][560][561][562][563][564][565][566][567][283][282][281][280][279][278][277][276][275][274][273][272][271][270][269][268][267][266][265][264][263][262][261][260][259][258][257][256][255][254][253][252][251][250][249][248][247][246][245][244][243][242][241][240][239][238][237][236][235][234][233][232][231][230][229][228][227][226][225][224][223][222][221][220][219][218][217][216][215][214][213][212][211][210][209][208][207][206][205][204][203][202][201][200][199][198][197][196][195][194][193][192][191][190][189][188][187][186][185][184][183][182][181][180][179][178][177][176][175][174][173][172][171][170][169][168][167][166][165][164][163][162][161][160][159][158][157][156][155][154][153][152][151][150][149][148][147][146][145][144][143][142][141][140][139][138][137][136][135][134][133][132][131][130][129][128][127][126][125][124][123][122][121][120][119][118][117][116][115][114][113][112][111][110][109][108][107][106][105][104][103][102][101][100][99][98][97][96][95][94][93][92][91][90][89][88][87][86][85][84][83][82][81][80][79][78][77][76][75][74][73][72][71][70][69][68][67][66][65][64][63][62][61][60][59][58][57][56][55][54][53][52][51][50][49][48][47][46][45][44][43][42][41][40][39][38][37][36][35][34][33][32][31][30][29][28][27][26][25][24][23][22][21][20][19][18][17][16][15][14][13][12][11][10][9][8][7][6][5][4][3][2][1][0]\n",
      "second iteration - drop to 4mm scaling\n",
      "Rescaling reference volume [284] to 4 mm pixels\n",
      "Registering volumes ... [285][286][287][288][289][290][291][292][293][294][295][296][297][298][299][300][301][302][303][304][305][306][307][308][309][310][311][312][313][314][315][316][317][318][319][320][321][322][323][324][325][326][327][328][329][330][331][332][333][334][335][336][337][338][339][340][341][342][343][344][345][346][347][348][349][350][351][352][353][354][355][356][357][358][359][360][361][362][363][364][365][366][367][368][369][370][371][372][373][374][375][376][377][378][379][380][381][382][383][384][385][386][387][388][389][390][391][392][393][394][395][396][397][398][399][400][401][402][403][404][405][406][407][408][409][410][411][412][413][414][415][416][417][418][419][420][421][422][423][424][425][426][427][428][429][430][431][432][433][434][435][436][437][438][439][440][441][442][443][444][445][446][447][448][449][450][451][452][453][454][455][456][457][458][459][460][461][462][463][464][465][466][467][468][469][470][471][472][473][474][475][476][477][478][479][480][481][482][483][484][485][486][487][488][489][490][491][492][493][494][495][496][497][498][499][500][501][502][503][504][505][506][507][508][509][510][511][512][513][514][515][516][517][518][519][520][521][522][523][524][525][526][527][528][529][530][531][532][533][534][535][536][537][538][539][540][541][542][543][544][545][546][547][548][549][550][551][552][553][554][555][556][557][558][559][560][561][562][563][564][565][566][567][283][282][281][280][279][278][277][276][275][274][273][272][271][270][269][268][267][266][265][264][263][262][261][260][259][258][257][256][255][254][253][252][251][250][249][248][247][246][245][244][243][242][241][240][239][238][237][236][235][234][233][232][231][230][229][228][227][226][225][224][223][222][221][220][219][218][217][216][215][214][213][212][211][210][209][208][207][206][205][204][203][202][201][200][199][198][197][196][195][194][193][192][191][190][189][188][187][186][185][184][183][182][181][180][179][178][177][176][175][174][173][172][171][170][169][168][167][166][165][164][163][162][161][160][159][158][157][156][155][154][153][152][151][150][149][148][147][146][145][144][143][142][141][140][139][138][137][136][135][134][133][132][131][130][129][128][127][126][125][124][123][122][121][120][119][118][117][116][115][114][113][112][111][110][109][108][107][106][105][104][103][102][101][100][99][98][97][96][95][94][93][92][91][90][89][88][87][86][85][84][83][82][81][80][79][78][77][76][75][74][73][72][71][70][69][68][67][66][65][64][63][62][61][60][59][58][57][56][55][54][53][52][51][50][49][48][47][46][45][44][43][42][41][40][39][38][37][36][35][34][33][32][31][30][29][28][27][26][25][24][23][22][21][20][19][18][17][16][15][14][13][12][11][10][9][8][7][6][5][4][3][2][1][0]\n",
      "third iteration - 4mm scaling, eighth tolerance\n"
     ]
    },
    {
     "name": "stdout",
     "output_type": "stream",
     "text": [
      "refnum = 284\n",
      "Original_refvol = -1\n"
     ]
    },
    {
     "name": "stderr",
     "output_type": "stream",
     "text": [
      "Registering volumes ... [285][286][287][288][289][290][291][292][293][294][295][296][297][298][299][300][301][302][303][304][305][306][307][308][309][310][311][312][313][314][315][316][317][318][319][320][321][322][323][324][325][326][327][328][329][330][331][332][333][334][335][336][337][338][339][340][341][342][343][344][345][346][347][348][349][350][351][352][353][354][355][356][357][358][359][360][361][362][363][364][365][366][367][368][369][370][371][372][373][374][375][376][377][378][379][380][381][382][383][384][385][386][387][388][389][390][391][392][393][394][395][396][397][398][399][400][401][402][403][404][405][406][407][408][409][410][411][412][413][414][415][416][417][418][419][420][421][422][423][424][425][426][427][428][429][430][431][432][433][434][435][436][437][438][439][440][441][442][443][444][445][446][447][448][449][450][451][452][453][454][455][456][457][458][459][460][461][462][463][464][465][466][467][468][469][470][471][472][473][474][475][476][477][478][479][480][481][482][483][484][485][486][487][488][489][490][491][492][493][494][495][496][497][498][499][500][501][502][503][504][505][506][507][508][509][510][511][512][513][514][515][516][517][518][519][520][521][522][523][524][525][526][527][528][529][530][531][532][533][534][535][536][537][538][539][540][541][542][543][544][545][546][547][548][549][550][551][552][553][554][555][556][557][558][559][560][561][562][563][564][565][566][567][283][282][281][280][279][278][277][276][275][274][273][272][271][270][269][268][267][266][265][264][263][262][261][260][259][258][257][256][255][254][253][252][251][250][249][248][247][246][245][244][243][242][241][240][239][238][237][236][235][234][233][232][231][230][229][228][227][226][225][224][223][222][221][220][219][218][217][216][215][214][213][212][211][210][209][208][207][206][205][204][203][202][201][200][199][198][197][196][195][194][193][192][191][190][189][188][187][186][185][184][183][182][181][180][179][178][177][176][175][174][173][172][171][170][169][168][167][166][165][164][163][162][161][160][159][158][157][156][155][154][153][152][151][150][149][148][147][146][145][144][143][142][141][140][139][138][137][136][135][134][133][132][131][130][129][128][127][126][125][124][123][122][121][120][119][118][117][116][115][114][113][112][111][110][109][108][107][106][105][104][103][102][101][100][99][98][97][96][95][94][93][92][91][90][89][88][87][86][85][84][83][82][81][80][79][78][77][76][75][74][73][72][71][70][69][68][67][66][65][64][63][62][61][60][59][58][57][56][55][54][53][52][51][50][49][48][47][46][45][44][43][42][41][40][39][38][37][36][35][34][33][32][31][30][29][28][27][26][25][24][23][22][21][20][19][18][17][16][15][14][13][12][11][10][9][8][7][6][5][4][3][2][1][0]\n",
      "Saving motion corrected time series... \n"
     ]
    },
    {
     "data": {
      "text/plain": [
       "{}"
      ]
     },
     "execution_count": 7,
     "metadata": {},
     "output_type": "execute_result"
    }
   ],
   "source": [
    "from fsl.wrappers import mcflirt\n",
    "\n",
    "path_moco_data = op.join(preproc_func_path, 'sub-{}_tfMRI_MOTOR_LR_moco'.format(subject_id))\n",
    "mcflirt(infile=concat_tfMRI_data_path,o=path_moco_data, plots=True, report=True, dof=6, mats=True)"
   ]
  },
  {
   "cell_type": "code",
   "execution_count": 9,
   "id": "281ad7a6-1a5a-4c12-8873-3dbf547f76f2",
   "metadata": {},
   "outputs": [
    {
     "ename": "OSError",
     "evalue": "Expected 2050773088 bytes, got 1525196476 bytes from object\n - could the file be damaged?",
     "output_type": "error",
     "traceback": [
      "\u001b[0;31m---------------------------------------------------------------------------\u001b[0m",
      "\u001b[0;31mKeyError\u001b[0m                                  Traceback (most recent call last)",
      "File \u001b[0;32m/opt/conda/lib/python3.11/site-packages/fsleyes/displaycontext/displaycontext.py:524\u001b[0m, in \u001b[0;36mDisplayContext.getDisplay\u001b[0;34m(self, overlay, **kwargs)\u001b[0m\n\u001b[1;32m    523\u001b[0m \u001b[38;5;28;01mtry\u001b[39;00m:\n\u001b[0;32m--> 524\u001b[0m     display \u001b[38;5;241m=\u001b[39m \u001b[38;5;28;43mself\u001b[39;49m\u001b[38;5;241;43m.\u001b[39;49m\u001b[43m__displays\u001b[49m\u001b[43m[\u001b[49m\u001b[43moverlay\u001b[49m\u001b[43m]\u001b[49m\n\u001b[1;32m    526\u001b[0m \u001b[38;5;28;01mexcept\u001b[39;00m \u001b[38;5;167;01mKeyError\u001b[39;00m:\n",
      "\u001b[0;31mKeyError\u001b[0m: Image(sub-101410_tfMRI_MOTOR_LR_moco, /data/mydataset/derivatives/preprocessed_data/sub-101410/func/sub-101410_tfMRI_MOTOR_LR_moco.nii.gz)",
      "\nDuring handling of the above exception, another exception occurred:\n",
      "\u001b[0;31mOSError\u001b[0m                                   Traceback (most recent call last)",
      "Cell \u001b[0;32mIn[9], line 3\u001b[0m\n\u001b[1;32m      1\u001b[0m fsleyesDisplay\u001b[38;5;241m.\u001b[39mresetOverlays()\n\u001b[1;32m      2\u001b[0m fsleyesDisplay\u001b[38;5;241m.\u001b[39mload(concat_tfMRI_data_path)\n\u001b[0;32m----> 3\u001b[0m \u001b[43mfsleyesDisplay\u001b[49m\u001b[38;5;241;43m.\u001b[39;49m\u001b[43mload\u001b[49m\u001b[43m(\u001b[49m\u001b[43mpath_moco_data\u001b[49m\u001b[43m)\u001b[49m\n",
      "File \u001b[0;32m/data/NX-421_Miniproject_1/utils.py:124\u001b[0m, in \u001b[0;36mFSLeyesServer.load\u001b[0;34m(self, image_path)\u001b[0m\n\u001b[1;32m    122\u001b[0m     \u001b[38;5;28mself\u001b[39m\u001b[38;5;241m.\u001b[39moverlayList\u001b[38;5;241m.\u001b[39mappend(trk_overlay)\n\u001b[1;32m    123\u001b[0m \u001b[38;5;28;01melse\u001b[39;00m:\n\u001b[0;32m--> 124\u001b[0m     \u001b[38;5;28;43mself\u001b[39;49m\u001b[38;5;241;43m.\u001b[39;49m\u001b[43moverlayList\u001b[49m\u001b[38;5;241;43m.\u001b[39;49m\u001b[43mappend\u001b[49m\u001b[43m(\u001b[49m\u001b[43mImage\u001b[49m\u001b[43m(\u001b[49m\u001b[43mimage_path\u001b[49m\u001b[43m)\u001b[49m\u001b[43m)\u001b[49m\n",
      "File \u001b[0;32m/opt/conda/lib/python3.11/site-packages/fsleyes/overlay.py:311\u001b[0m, in \u001b[0;36mOverlayList.append\u001b[0;34m(self, item, **initProps)\u001b[0m\n\u001b[1;32m    305\u001b[0m \u001b[38;5;28;01mdef\u001b[39;00m \u001b[38;5;21mappend\u001b[39m(\u001b[38;5;28mself\u001b[39m, item, \u001b[38;5;241m*\u001b[39m\u001b[38;5;241m*\u001b[39minitProps):\n\u001b[1;32m    306\u001b[0m \u001b[38;5;250m    \u001b[39m\u001b[38;5;124;03m\"\"\"Add a new overlay to the end of the overlay list.\u001b[39;00m\n\u001b[1;32m    307\u001b[0m \n\u001b[1;32m    308\u001b[0m \u001b[38;5;124;03m    Any initial :class:`.Display`/:class:`.DisplayOpts` property values\u001b[39;00m\n\u001b[1;32m    309\u001b[0m \u001b[38;5;124;03m    may be passed in as keyword arguments.\u001b[39;00m\n\u001b[1;32m    310\u001b[0m \u001b[38;5;124;03m    \"\"\"\u001b[39;00m\n\u001b[0;32m--> 311\u001b[0m     \u001b[38;5;28;43mself\u001b[39;49m\u001b[38;5;241;43m.\u001b[39;49m\u001b[43minsert\u001b[49m\u001b[43m(\u001b[49m\u001b[38;5;28;43mlen\u001b[39;49m\u001b[43m(\u001b[49m\u001b[38;5;28;43mself\u001b[39;49m\u001b[43m)\u001b[49m\u001b[43m,\u001b[49m\u001b[43m \u001b[49m\u001b[43mitem\u001b[49m\u001b[43m,\u001b[49m\u001b[43m \u001b[49m\u001b[38;5;241;43m*\u001b[39;49m\u001b[38;5;241;43m*\u001b[39;49m\u001b[43minitProps\u001b[49m\u001b[43m)\u001b[49m\n",
      "File \u001b[0;32m/opt/conda/lib/python3.11/site-packages/fsleyes/overlay.py:301\u001b[0m, in \u001b[0;36mOverlayList.insert\u001b[0;34m(self, index, item, **initProps)\u001b[0m\n\u001b[1;32m    294\u001b[0m \u001b[38;5;28;01mdef\u001b[39;00m \u001b[38;5;21minsert\u001b[39m(\u001b[38;5;28mself\u001b[39m, index, item, \u001b[38;5;241m*\u001b[39m\u001b[38;5;241m*\u001b[39minitProps):\n\u001b[1;32m    295\u001b[0m \u001b[38;5;250m    \u001b[39m\u001b[38;5;124;03m\"\"\"Insert a new overlay into the overlay list.\u001b[39;00m\n\u001b[1;32m    296\u001b[0m \n\u001b[1;32m    297\u001b[0m \u001b[38;5;124;03m    Any initial :class:`.Display`/:class:`.DisplayOpts` property values\u001b[39;00m\n\u001b[1;32m    298\u001b[0m \u001b[38;5;124;03m    may be passed in as keyword arguments.\u001b[39;00m\n\u001b[1;32m    299\u001b[0m \u001b[38;5;124;03m    \"\"\"\u001b[39;00m\n\u001b[0;32m--> 301\u001b[0m \u001b[43m    \u001b[49m\u001b[38;5;28;43;01mwith\u001b[39;49;00m\u001b[43m \u001b[49m\u001b[43mprops\u001b[49m\u001b[38;5;241;43m.\u001b[39;49m\u001b[43msuppress\u001b[49m\u001b[43m(\u001b[49m\u001b[38;5;28;43mself\u001b[39;49m\u001b[43m,\u001b[49m\u001b[43m \u001b[49m\u001b[38;5;124;43m'\u001b[39;49m\u001b[38;5;124;43moverlays\u001b[39;49m\u001b[38;5;124;43m'\u001b[39;49m\u001b[43m,\u001b[49m\u001b[43m \u001b[49m\u001b[43mnotify\u001b[49m\u001b[38;5;241;43m=\u001b[39;49m\u001b[38;5;28;43;01mTrue\u001b[39;49;00m\u001b[43m)\u001b[49m\u001b[43m:\u001b[49m\n\u001b[1;32m    302\u001b[0m \u001b[43m        \u001b[49m\u001b[38;5;28;43mself\u001b[39;49m\u001b[38;5;241;43m.\u001b[39;49m\u001b[43moverlays\u001b[49m\u001b[38;5;241;43m.\u001b[39;49m\u001b[43minsert\u001b[49m\u001b[43m(\u001b[49m\u001b[43mindex\u001b[49m\u001b[43m,\u001b[49m\u001b[43m \u001b[49m\u001b[43mitem\u001b[49m\u001b[43m)\u001b[49m\n\u001b[1;32m    303\u001b[0m \u001b[43m        \u001b[49m\u001b[38;5;28;43mself\u001b[39;49m\u001b[38;5;241;43m.\u001b[39;49m\u001b[43m__initProps\u001b[49m\u001b[43m[\u001b[49m\u001b[43mitem\u001b[49m\u001b[43m]\u001b[49m\u001b[43m \u001b[49m\u001b[38;5;241;43m=\u001b[39;49m\u001b[43m \u001b[49m\u001b[43minitProps\u001b[49m\n",
      "File \u001b[0;32m/opt/conda/lib/python3.11/contextlib.py:144\u001b[0m, in \u001b[0;36m_GeneratorContextManager.__exit__\u001b[0;34m(self, typ, value, traceback)\u001b[0m\n\u001b[1;32m    142\u001b[0m \u001b[38;5;28;01mif\u001b[39;00m typ \u001b[38;5;129;01mis\u001b[39;00m \u001b[38;5;28;01mNone\u001b[39;00m:\n\u001b[1;32m    143\u001b[0m     \u001b[38;5;28;01mtry\u001b[39;00m:\n\u001b[0;32m--> 144\u001b[0m         \u001b[38;5;28mnext\u001b[39m(\u001b[38;5;28mself\u001b[39m\u001b[38;5;241m.\u001b[39mgen)\n\u001b[1;32m    145\u001b[0m     \u001b[38;5;28;01mexcept\u001b[39;00m \u001b[38;5;167;01mStopIteration\u001b[39;00m:\n\u001b[1;32m    146\u001b[0m         \u001b[38;5;28;01mreturn\u001b[39;00m \u001b[38;5;28;01mFalse\u001b[39;00m\n",
      "File \u001b[0;32m/opt/conda/lib/python3.11/site-packages/fsleyes_props/suppress.py:61\u001b[0m, in \u001b[0;36msuppress\u001b[0;34m(hasProps, notify, *propNames)\u001b[0m\n\u001b[1;32m     59\u001b[0m \u001b[38;5;28;01mif\u001b[39;00m notify:\n\u001b[1;32m     60\u001b[0m     \u001b[38;5;28;01mfor\u001b[39;00m propName \u001b[38;5;129;01min\u001b[39;00m propNames:\n\u001b[0;32m---> 61\u001b[0m         \u001b[43mhasProps\u001b[49m\u001b[38;5;241;43m.\u001b[39;49m\u001b[43mpropNotify\u001b[49m\u001b[43m(\u001b[49m\u001b[43mpropName\u001b[49m\u001b[43m)\u001b[49m\n",
      "File \u001b[0;32m/opt/conda/lib/python3.11/site-packages/fsleyes_props/properties.py:910\u001b[0m, in \u001b[0;36mHasProperties.propNotify\u001b[0;34m(self, propName)\u001b[0m\n\u001b[1;32m    904\u001b[0m \u001b[38;5;28;01mdef\u001b[39;00m \u001b[38;5;21mpropNotify\u001b[39m(\u001b[38;5;28mself\u001b[39m, propName):\n\u001b[1;32m    905\u001b[0m \u001b[38;5;250m    \u001b[39m\u001b[38;5;124;03m\"\"\"Force notification of listeners on the given property. This will\u001b[39;00m\n\u001b[1;32m    906\u001b[0m \u001b[38;5;124;03m    have no effect if notification for the property is disabled.\u001b[39;00m\n\u001b[1;32m    907\u001b[0m \n\u001b[1;32m    908\u001b[0m \u001b[38;5;124;03m    See the :meth:`.PropertyValue.propNotify` method.\u001b[39;00m\n\u001b[1;32m    909\u001b[0m \u001b[38;5;124;03m    \"\"\"\u001b[39;00m\n\u001b[0;32m--> 910\u001b[0m     \u001b[38;5;28;43mself\u001b[39;49m\u001b[38;5;241;43m.\u001b[39;49m\u001b[43mgetPropVal\u001b[49m\u001b[43m(\u001b[49m\u001b[43mpropName\u001b[49m\u001b[43m)\u001b[49m\u001b[38;5;241;43m.\u001b[39;49m\u001b[43mpropNotify\u001b[49m\u001b[43m(\u001b[49m\u001b[43m)\u001b[49m\n",
      "File \u001b[0;32m/opt/conda/lib/python3.11/site-packages/fsleyes_props/properties_value.py:861\u001b[0m, in \u001b[0;36mPropertyValue.propNotify\u001b[0;34m(self)\u001b[0m\n\u001b[1;32m    856\u001b[0m \u001b[38;5;28;01mdef\u001b[39;00m \u001b[38;5;21mpropNotify\u001b[39m(\u001b[38;5;28mself\u001b[39m):\n\u001b[1;32m    857\u001b[0m \u001b[38;5;250m    \u001b[39m\u001b[38;5;124;03m\"\"\"Notifies registered listeners - see the\u001b[39;00m\n\u001b[1;32m    858\u001b[0m \u001b[38;5;124;03m    :func:`.bindable.syncAndNotify` function.\u001b[39;00m\n\u001b[1;32m    859\u001b[0m \u001b[38;5;124;03m    \"\"\"\u001b[39;00m\n\u001b[0;32m--> 861\u001b[0m     \u001b[43mbindable\u001b[49m\u001b[38;5;241;43m.\u001b[39;49m\u001b[43msyncAndNotify\u001b[49m\u001b[43m(\u001b[49m\u001b[38;5;28;43mself\u001b[39;49m\u001b[43m)\u001b[49m\n\u001b[1;32m    863\u001b[0m     \u001b[38;5;66;03m# If this PV is a member of a PV list,\u001b[39;00m\n\u001b[1;32m    864\u001b[0m     \u001b[38;5;66;03m# tell the list that this PV has\u001b[39;00m\n\u001b[1;32m    865\u001b[0m     \u001b[38;5;66;03m# changed, so that it can notify its own\u001b[39;00m\n\u001b[1;32m    866\u001b[0m     \u001b[38;5;66;03m# list-level listeners of the change\u001b[39;00m\n\u001b[1;32m    867\u001b[0m     \u001b[38;5;28;01mif\u001b[39;00m \u001b[38;5;28mself\u001b[39m\u001b[38;5;241m.\u001b[39m__parent \u001b[38;5;129;01mis\u001b[39;00m \u001b[38;5;129;01mnot\u001b[39;00m \u001b[38;5;28;01mNone\u001b[39;00m \u001b[38;5;129;01mand\u001b[39;00m \u001b[38;5;28mself\u001b[39m\u001b[38;5;241m.\u001b[39m__parent() \u001b[38;5;129;01mis\u001b[39;00m \u001b[38;5;129;01mnot\u001b[39;00m \u001b[38;5;28;01mNone\u001b[39;00m:\n",
      "File \u001b[0;32m/opt/conda/lib/python3.11/site-packages/fsleyes_props/bindable.py:286\u001b[0m, in \u001b[0;36msyncAndNotify\u001b[0;34m(self)\u001b[0m\n\u001b[1;32m    283\u001b[0m         allBpvs\u001b[38;5;241m.\u001b[39mextend(listItems)\n\u001b[1;32m    284\u001b[0m     allBpvs\u001b[38;5;241m.\u001b[39mappend(bpv)\n\u001b[0;32m--> 286\u001b[0m \u001b[43m_callAllListeners\u001b[49m\u001b[43m(\u001b[49m\u001b[43m[\u001b[49m\u001b[38;5;28;43mself\u001b[39;49m\u001b[43m]\u001b[49m\u001b[43m \u001b[49m\u001b[38;5;241;43m+\u001b[39;49m\u001b[43m \u001b[49m\u001b[43mallBpvs\u001b[49m\u001b[43m,\u001b[49m\u001b[43m \u001b[49m\u001b[38;5;28;43;01mFalse\u001b[39;49;00m\u001b[43m)\u001b[49m\n",
      "File \u001b[0;32m/opt/conda/lib/python3.11/site-packages/fsleyes_props/bindable.py:915\u001b[0m, in \u001b[0;36m_callAllListeners\u001b[0;34m(propVals, att, name, value)\u001b[0m\n\u001b[1;32m    911\u001b[0m \u001b[38;5;28;01mif\u001b[39;00m l\u001b[38;5;241m.\u001b[39mimmediate:\n\u001b[1;32m    913\u001b[0m     log\u001b[38;5;241m.\u001b[39mdebug(\u001b[38;5;124m'\u001b[39m\u001b[38;5;124mCalling immediate mode \u001b[39m\u001b[38;5;124m'\u001b[39m\n\u001b[1;32m    914\u001b[0m               \u001b[38;5;124m'\u001b[39m\u001b[38;5;124mlistener \u001b[39m\u001b[38;5;132;01m%s\u001b[39;00m\u001b[38;5;124m'\u001b[39m, l\u001b[38;5;241m.\u001b[39mname)\n\u001b[0;32m--> 915\u001b[0m     \u001b[43mgetFunc\u001b[49m\u001b[43m(\u001b[49m\u001b[43ml\u001b[49m\u001b[43m)\u001b[49m\u001b[43m(\u001b[49m\u001b[38;5;241;43m*\u001b[39;49m\u001b[43ma\u001b[49m\u001b[43m)\u001b[49m\n\u001b[1;32m    917\u001b[0m \u001b[38;5;66;03m# Or add it to the queue\u001b[39;00m\n\u001b[1;32m    918\u001b[0m \u001b[38;5;28;01melse\u001b[39;00m:\n\u001b[1;32m    919\u001b[0m     queued\u001b[38;5;241m.\u001b[39mappend((l, a))\n",
      "File \u001b[0;32m/opt/conda/lib/python3.11/site-packages/fsleyes/displaycontext/displaycontext.py:819\u001b[0m, in \u001b[0;36mDisplayContext.__overlayListChanged\u001b[0;34m(self, *a)\u001b[0m\n\u001b[1;32m    815\u001b[0m \u001b[38;5;66;03m# The getDisplay method\u001b[39;00m\n\u001b[1;32m    816\u001b[0m \u001b[38;5;66;03m# will create a Display object\u001b[39;00m\n\u001b[1;32m    817\u001b[0m \u001b[38;5;66;03m# if one does not already exist\u001b[39;00m\n\u001b[1;32m    818\u001b[0m new     \u001b[38;5;241m=\u001b[39m overlay \u001b[38;5;129;01mnot\u001b[39;00m \u001b[38;5;129;01min\u001b[39;00m \u001b[38;5;28mself\u001b[39m\u001b[38;5;241m.\u001b[39m__displays\n\u001b[0;32m--> 819\u001b[0m display \u001b[38;5;241m=\u001b[39m \u001b[38;5;28;43mself\u001b[39;49m\u001b[38;5;241;43m.\u001b[39;49m\u001b[43mgetDisplay\u001b[49m\u001b[43m(\u001b[49m\u001b[43moverlay\u001b[49m\u001b[43m,\u001b[49m\u001b[43m \u001b[49m\u001b[38;5;241;43m*\u001b[39;49m\u001b[38;5;241;43m*\u001b[39;49m\u001b[43minitProps\u001b[49m\u001b[43m)\u001b[49m\n\u001b[1;32m    820\u001b[0m opts    \u001b[38;5;241m=\u001b[39m display\u001b[38;5;241m.\u001b[39mopts\n\u001b[1;32m    822\u001b[0m \u001b[38;5;66;03m# Register a listener on the overlay type,\u001b[39;00m\n\u001b[1;32m    823\u001b[0m \u001b[38;5;66;03m# because when it changes, the DisplayOpts\u001b[39;00m\n\u001b[1;32m    824\u001b[0m \u001b[38;5;66;03m# instance will change, and we will need\u001b[39;00m\n\u001b[1;32m    825\u001b[0m \u001b[38;5;66;03m# to re-register the DisplayOpts.bounds\u001b[39;00m\n\u001b[1;32m    826\u001b[0m \u001b[38;5;66;03m# listener (see the next statement)\u001b[39;00m\n",
      "File \u001b[0;32m/opt/conda/lib/python3.11/site-packages/fsleyes/displaycontext/displaycontext.py:535\u001b[0m, in \u001b[0;36mDisplayContext.getDisplay\u001b[0;34m(self, overlay, **kwargs)\u001b[0m\n\u001b[1;32m    531\u001b[0m         dParent \u001b[38;5;241m=\u001b[39m \u001b[38;5;28mself\u001b[39m\u001b[38;5;241m.\u001b[39mgetParent()\u001b[38;5;241m.\u001b[39mgetDisplay(overlay, \u001b[38;5;241m*\u001b[39m\u001b[38;5;241m*\u001b[39mkwargs)\n\u001b[1;32m    533\u001b[0m     \u001b[38;5;28;01mfrom\u001b[39;00m \u001b[38;5;21;01m.\u001b[39;00m\u001b[38;5;21;01mdisplay\u001b[39;00m \u001b[38;5;28;01mimport\u001b[39;00m Display\n\u001b[0;32m--> 535\u001b[0m     display \u001b[38;5;241m=\u001b[39m \u001b[43mDisplay\u001b[49m\u001b[43m(\u001b[49m\u001b[43moverlay\u001b[49m\u001b[43m,\u001b[49m\n\u001b[1;32m    536\u001b[0m \u001b[43m                      \u001b[49m\u001b[38;5;28;43mself\u001b[39;49m\u001b[38;5;241;43m.\u001b[39;49m\u001b[43m__overlayList\u001b[49m\u001b[43m,\u001b[49m\n\u001b[1;32m    537\u001b[0m \u001b[43m                      \u001b[49m\u001b[38;5;28;43mself\u001b[39;49m\u001b[43m,\u001b[49m\n\u001b[1;32m    538\u001b[0m \u001b[43m                      \u001b[49m\u001b[43mparent\u001b[49m\u001b[38;5;241;43m=\u001b[39;49m\u001b[43mdParent\u001b[49m\u001b[43m,\u001b[49m\n\u001b[1;32m    539\u001b[0m \u001b[43m                      \u001b[49m\u001b[38;5;241;43m*\u001b[39;49m\u001b[38;5;241;43m*\u001b[39;49m\u001b[43mkwargs\u001b[49m\u001b[43m)\u001b[49m\n\u001b[1;32m    540\u001b[0m     \u001b[38;5;28mself\u001b[39m\u001b[38;5;241m.\u001b[39m__displays[overlay] \u001b[38;5;241m=\u001b[39m display\n\u001b[1;32m    542\u001b[0m \u001b[38;5;28;01mreturn\u001b[39;00m display\n",
      "File \u001b[0;32m/opt/conda/lib/python3.11/site-packages/fsleyes/displaycontext/display.py:178\u001b[0m, in \u001b[0;36mDisplay.__init__\u001b[0;34m(self, overlay, overlayList, displayCtx, parent, **kwa)\u001b[0m\n\u001b[1;32m    170\u001b[0m \u001b[38;5;66;03m# The __overlayTypeChanged method creates\u001b[39;00m\n\u001b[1;32m    171\u001b[0m \u001b[38;5;66;03m# a new DisplayOpts instance - for this,\u001b[39;00m\n\u001b[1;32m    172\u001b[0m \u001b[38;5;66;03m# it needs to be able to access this\u001b[39;00m\n\u001b[0;32m   (...)\u001b[0m\n\u001b[1;32m    175\u001b[0m \u001b[38;5;66;03m# new DisplayOpts instance). Therefore,\u001b[39;00m\n\u001b[1;32m    176\u001b[0m \u001b[38;5;66;03m# we do this after calling Syncable.__init__.\u001b[39;00m\n\u001b[1;32m    177\u001b[0m \u001b[38;5;28mself\u001b[39m\u001b[38;5;241m.\u001b[39m__displayOpts \u001b[38;5;241m=\u001b[39m \u001b[38;5;28;01mNone\u001b[39;00m\n\u001b[0;32m--> 178\u001b[0m \u001b[38;5;28;43mself\u001b[39;49m\u001b[38;5;241;43m.\u001b[39;49m\u001b[43m__overlayTypeChanged\u001b[49m\u001b[43m(\u001b[49m\u001b[43m)\u001b[49m\n\u001b[1;32m    180\u001b[0m log\u001b[38;5;241m.\u001b[39mdebug(\u001b[38;5;124m'\u001b[39m\u001b[38;5;132;01m{}\u001b[39;00m\u001b[38;5;124m.init (\u001b[39m\u001b[38;5;132;01m{}\u001b[39;00m\u001b[38;5;124m)\u001b[39m\u001b[38;5;124m'\u001b[39m\u001b[38;5;241m.\u001b[39mformat(\u001b[38;5;28mtype\u001b[39m(\u001b[38;5;28mself\u001b[39m)\u001b[38;5;241m.\u001b[39m\u001b[38;5;18m__name__\u001b[39m, \u001b[38;5;28mid\u001b[39m(\u001b[38;5;28mself\u001b[39m)))\n",
      "File \u001b[0;32m/opt/conda/lib/python3.11/site-packages/fsleyes/displaycontext/display.py:371\u001b[0m, in \u001b[0;36mDisplay.__overlayTypeChanged\u001b[0;34m(self, *a)\u001b[0m\n\u001b[1;32m    367\u001b[0m \u001b[38;5;250m\u001b[39m\u001b[38;5;124;03m\"\"\"Called when the :attr:`overlayType` property changes. Makes sure\u001b[39;00m\n\u001b[1;32m    368\u001b[0m \u001b[38;5;124;03mthat the :class:`DisplayOpts` instance is of the correct type.\u001b[39;00m\n\u001b[1;32m    369\u001b[0m \u001b[38;5;124;03m\"\"\"\u001b[39;00m\n\u001b[1;32m    370\u001b[0m \u001b[38;5;28mself\u001b[39m\u001b[38;5;241m.\u001b[39m__saveOldDisplayOpts()\n\u001b[0;32m--> 371\u001b[0m \u001b[38;5;28;43mself\u001b[39;49m\u001b[38;5;241;43m.\u001b[39;49m\u001b[43mopts\u001b[49m\n\u001b[1;32m    372\u001b[0m \u001b[38;5;28mself\u001b[39m\u001b[38;5;241m.\u001b[39m__restoreOldDisplayOpts()\n",
      "File \u001b[0;32m/opt/conda/lib/python3.11/site-packages/fsleyes/displaycontext/display.py:237\u001b[0m, in \u001b[0;36mDisplay.opts\u001b[0;34m(self)\u001b[0m\n\u001b[1;32m    234\u001b[0m     \u001b[38;5;28;01mif\u001b[39;00m \u001b[38;5;28mself\u001b[39m\u001b[38;5;241m.\u001b[39m__displayOpts \u001b[38;5;129;01mis\u001b[39;00m \u001b[38;5;129;01mnot\u001b[39;00m \u001b[38;5;28;01mNone\u001b[39;00m:\n\u001b[1;32m    235\u001b[0m         \u001b[38;5;28mself\u001b[39m\u001b[38;5;241m.\u001b[39m__displayOpts\u001b[38;5;241m.\u001b[39mdestroy()\n\u001b[0;32m--> 237\u001b[0m     \u001b[38;5;28mself\u001b[39m\u001b[38;5;241m.\u001b[39m__displayOpts \u001b[38;5;241m=\u001b[39m \u001b[38;5;28;43mself\u001b[39;49m\u001b[38;5;241;43m.\u001b[39;49m\u001b[43m__makeDisplayOpts\u001b[49m\u001b[43m(\u001b[49m\u001b[43m)\u001b[49m\n\u001b[1;32m    239\u001b[0m \u001b[38;5;28;01mreturn\u001b[39;00m \u001b[38;5;28mself\u001b[39m\u001b[38;5;241m.\u001b[39m__displayOpts\n",
      "File \u001b[0;32m/opt/conda/lib/python3.11/site-packages/fsleyes/displaycontext/display.py:282\u001b[0m, in \u001b[0;36mDisplay.__makeDisplayOpts\u001b[0;34m(self)\u001b[0m\n\u001b[1;32m    279\u001b[0m     \u001b[38;5;28;01melse\u001b[39;00m:\n\u001b[1;32m    280\u001b[0m         initState[p] \u001b[38;5;241m=\u001b[39m \u001b[38;5;28mself\u001b[39m\u001b[38;5;241m.\u001b[39m__displayCtx\u001b[38;5;241m.\u001b[39msyncOverlayDisplay\n\u001b[0;32m--> 282\u001b[0m \u001b[38;5;28;01mreturn\u001b[39;00m \u001b[43moptType\u001b[49m\u001b[43m(\u001b[49m\u001b[38;5;28;43mself\u001b[39;49m\u001b[38;5;241;43m.\u001b[39;49m\u001b[43m__overlay\u001b[49m\u001b[43m,\u001b[49m\n\u001b[1;32m    283\u001b[0m \u001b[43m               \u001b[49m\u001b[38;5;28;43mself\u001b[39;49m\u001b[43m,\u001b[49m\n\u001b[1;32m    284\u001b[0m \u001b[43m               \u001b[49m\u001b[38;5;28;43mself\u001b[39;49m\u001b[38;5;241;43m.\u001b[39;49m\u001b[43m__overlayList\u001b[49m\u001b[43m,\u001b[49m\n\u001b[1;32m    285\u001b[0m \u001b[43m               \u001b[49m\u001b[38;5;28;43mself\u001b[39;49m\u001b[38;5;241;43m.\u001b[39;49m\u001b[43m__displayCtx\u001b[49m\u001b[43m,\u001b[49m\n\u001b[1;32m    286\u001b[0m \u001b[43m               \u001b[49m\u001b[43mparent\u001b[49m\u001b[38;5;241;43m=\u001b[39;49m\u001b[43moParent\u001b[49m\u001b[43m,\u001b[49m\n\u001b[1;32m    287\u001b[0m \u001b[43m               \u001b[49m\u001b[43mstate\u001b[49m\u001b[38;5;241;43m=\u001b[39;49m\u001b[43minitState\u001b[49m\u001b[43m,\u001b[49m\n\u001b[1;32m    288\u001b[0m \u001b[43m               \u001b[49m\u001b[38;5;241;43m*\u001b[39;49m\u001b[38;5;241;43m*\u001b[39;49m\u001b[43minitOptProps\u001b[49m\u001b[43m)\u001b[49m\n",
      "File \u001b[0;32m/opt/conda/lib/python3.11/site-packages/fsleyes/displaycontext/volumeopts.py:226\u001b[0m, in \u001b[0;36mVolumeOpts.__init__\u001b[0;34m(self, overlay, display, overlayList, displayCtx, **kwargs)\u001b[0m\n\u001b[1;32m    223\u001b[0m         prop \u001b[38;5;241m=\u001b[39m \u001b[38;5;28mself\u001b[39m\u001b[38;5;241m.\u001b[39mgetProp(\u001b[38;5;124m'\u001b[39m\u001b[38;5;124mchannel\u001b[39m\u001b[38;5;124m'\u001b[39m)\n\u001b[1;32m    224\u001b[0m         prop\u001b[38;5;241m.\u001b[39mremoveChoice(\u001b[38;5;124m'\u001b[39m\u001b[38;5;124mA\u001b[39m\u001b[38;5;124m'\u001b[39m, \u001b[38;5;28mself\u001b[39m)\n\u001b[0;32m--> 226\u001b[0m \u001b[43mcmapopts\u001b[49m\u001b[43m \u001b[49m\u001b[38;5;241;43m.\u001b[39;49m\u001b[43mColourMapOpts\u001b[49m\u001b[38;5;241;43m.\u001b[39;49m\u001b[38;5;21;43m__init__\u001b[39;49m\u001b[43m(\u001b[49m\u001b[38;5;28;43mself\u001b[39;49m\u001b[43m)\u001b[49m\n\u001b[1;32m    227\u001b[0m vol3dopts\u001b[38;5;241m.\u001b[39mVolume3DOpts \u001b[38;5;241m.\u001b[39m\u001b[38;5;21m__init__\u001b[39m(\u001b[38;5;28mself\u001b[39m)\n\u001b[1;32m    229\u001b[0m \u001b[38;5;66;03m# Both parent and child VolumeOpts instances\u001b[39;00m\n\u001b[1;32m    230\u001b[0m \u001b[38;5;66;03m# listen for Image data changes so that\u001b[39;00m\n\u001b[1;32m    231\u001b[0m \u001b[38;5;66;03m# they know the min/max data range. The data\u001b[39;00m\n\u001b[0;32m   (...)\u001b[0m\n\u001b[1;32m    252\u001b[0m \u001b[38;5;66;03m# having the parent track changes to the data\u001b[39;00m\n\u001b[1;32m    253\u001b[0m \u001b[38;5;66;03m# range in addition to all children.\u001b[39;00m\n",
      "File \u001b[0;32m/opt/conda/lib/python3.11/site-packages/fsleyes/displaycontext/colourmapopts.py:312\u001b[0m, in \u001b[0;36mColourMapOpts.__init__\u001b[0;34m(self)\u001b[0m\n\u001b[1;32m    304\u001b[0m \u001b[38;5;66;03m# If this is the parent ColourMapOpts\u001b[39;00m\n\u001b[1;32m    305\u001b[0m \u001b[38;5;66;03m# instance, its properties need to be\u001b[39;00m\n\u001b[1;32m    306\u001b[0m \u001b[38;5;66;03m# initialised. Child instance properties\u001b[39;00m\n\u001b[1;32m    307\u001b[0m \u001b[38;5;66;03m# should inherit the current parent\u001b[39;00m\n\u001b[1;32m    308\u001b[0m \u001b[38;5;66;03m# values, unless they are not synced\u001b[39;00m\n\u001b[1;32m    309\u001b[0m \u001b[38;5;66;03m# to the parent.\u001b[39;00m\n\u001b[1;32m    310\u001b[0m \u001b[38;5;28;01mif\u001b[39;00m (\u001b[38;5;129;01mnot\u001b[39;00m \u001b[38;5;28mself\u001b[39m\u001b[38;5;241m.\u001b[39m__registered) \u001b[38;5;129;01mor\u001b[39;00m \\\n\u001b[1;32m    311\u001b[0m    (\u001b[38;5;129;01mnot\u001b[39;00m \u001b[38;5;28mself\u001b[39m\u001b[38;5;241m.\u001b[39misSyncedToParent(\u001b[38;5;124m'\u001b[39m\u001b[38;5;124mdisplayRange\u001b[39m\u001b[38;5;124m'\u001b[39m)):\n\u001b[0;32m--> 312\u001b[0m     \u001b[38;5;28;43mself\u001b[39;49m\u001b[38;5;241;43m.\u001b[39;49m\u001b[43mupdateDataRange\u001b[49m\u001b[43m(\u001b[49m\u001b[38;5;28;43;01mFalse\u001b[39;49;00m\u001b[43m,\u001b[49m\u001b[43m \u001b[49m\u001b[38;5;28;43;01mFalse\u001b[39;49;00m\u001b[43m,\u001b[49m\u001b[43m \u001b[49m\u001b[38;5;28;43;01mFalse\u001b[39;49;00m\u001b[43m)\u001b[49m\n",
      "File \u001b[0;32m/opt/conda/lib/python3.11/site-packages/fsleyes/displaycontext/colourmapopts.py:464\u001b[0m, in \u001b[0;36mColourMapOpts.updateDataRange\u001b[0;34m(self, resetDR, resetCR, resetMR)\u001b[0m\n\u001b[1;32m    438\u001b[0m \u001b[38;5;28;01mdef\u001b[39;00m \u001b[38;5;21mupdateDataRange\u001b[39m(\u001b[38;5;28mself\u001b[39m, resetDR\u001b[38;5;241m=\u001b[39m\u001b[38;5;28;01mTrue\u001b[39;00m, resetCR\u001b[38;5;241m=\u001b[39m\u001b[38;5;28;01mTrue\u001b[39;00m, resetMR\u001b[38;5;241m=\u001b[39m\u001b[38;5;28;01mTrue\u001b[39;00m):\n\u001b[1;32m    439\u001b[0m \u001b[38;5;250m    \u001b[39m\u001b[38;5;124;03m\"\"\"Must be called by sub-classes whenever the ranges of the underlying\u001b[39;00m\n\u001b[1;32m    440\u001b[0m \u001b[38;5;124;03m    data or clipping/modulate values change.  Configures the minimum/\u001b[39;00m\n\u001b[1;32m    441\u001b[0m \u001b[38;5;124;03m    maximum bounds of the :attr:`displayRange`, :attr:`clippingRange`, and\u001b[39;00m\n\u001b[0;32m   (...)\u001b[0m\n\u001b[1;32m    461\u001b[0m \u001b[38;5;124;03m    values and limits are equal to each other.\u001b[39;00m\n\u001b[1;32m    462\u001b[0m \u001b[38;5;124;03m    \"\"\"\u001b[39;00m\n\u001b[0;32m--> 464\u001b[0m     dataMin, dataMax \u001b[38;5;241m=\u001b[39m \u001b[38;5;28;43mself\u001b[39;49m\u001b[38;5;241;43m.\u001b[39;49m\u001b[43mgetDataRange\u001b[49m\u001b[43m(\u001b[49m\u001b[43m)\u001b[49m\n\u001b[1;32m    465\u001b[0m     clipRange        \u001b[38;5;241m=\u001b[39m \u001b[38;5;28mself\u001b[39m\u001b[38;5;241m.\u001b[39mgetClippingRange()\n\u001b[1;32m    466\u001b[0m     modRange         \u001b[38;5;241m=\u001b[39m \u001b[38;5;28mself\u001b[39m\u001b[38;5;241m.\u001b[39mgetModulateRange()\n",
      "File \u001b[0;32m/opt/conda/lib/python3.11/site-packages/fsleyes/displaycontext/volumeopts.py:326\u001b[0m, in \u001b[0;36mVolumeOpts.getDataRange\u001b[0;34m(self)\u001b[0m\n\u001b[1;32m    321\u001b[0m \u001b[38;5;250m\u001b[39m\u001b[38;5;124;03m\"\"\"Overrides :meth:`.ColourMapOpts.getDataRange`. Returns the\u001b[39;00m\n\u001b[1;32m    322\u001b[0m \u001b[38;5;124;03m:attr:`.Image.dataRange` of the image, or the\u001b[39;00m\n\u001b[1;32m    323\u001b[0m \u001b[38;5;124;03m:attr:`overrideDataRange` if it is active.\u001b[39;00m\n\u001b[1;32m    324\u001b[0m \u001b[38;5;124;03m\"\"\"\u001b[39;00m\n\u001b[1;32m    325\u001b[0m \u001b[38;5;28;01mif\u001b[39;00m \u001b[38;5;28mself\u001b[39m\u001b[38;5;241m.\u001b[39menableOverrideDataRange: \u001b[38;5;28;01mreturn\u001b[39;00m \u001b[38;5;28mself\u001b[39m\u001b[38;5;241m.\u001b[39moverrideDataRange\n\u001b[0;32m--> 326\u001b[0m \u001b[38;5;28;01melse\u001b[39;00m:                            \u001b[38;5;28;01mreturn\u001b[39;00m \u001b[38;5;28;43mself\u001b[39;49m\u001b[38;5;241;43m.\u001b[39;49m\u001b[43moverlay\u001b[49m\u001b[38;5;241;43m.\u001b[39;49m\u001b[43mdataRange\u001b[49m\n",
      "File \u001b[0;32m/opt/conda/lib/python3.11/site-packages/fsl/data/image.py:1487\u001b[0m, in \u001b[0;36mImage.dataRange\u001b[0;34m(self)\u001b[0m\n\u001b[1;32m   1484\u001b[0m \u001b[38;5;28;01mif\u001b[39;00m   \u001b[38;5;28mself\u001b[39m\u001b[38;5;241m.\u001b[39m__dataMgr   \u001b[38;5;129;01mis\u001b[39;00m \u001b[38;5;129;01mnot\u001b[39;00m \u001b[38;5;28;01mNone\u001b[39;00m: \u001b[38;5;28;01mreturn\u001b[39;00m \u001b[38;5;28mself\u001b[39m\u001b[38;5;241m.\u001b[39m__dataMgr\u001b[38;5;241m.\u001b[39mdataRange\n\u001b[1;32m   1485\u001b[0m \u001b[38;5;28;01melif\u001b[39;00m \u001b[38;5;28mself\u001b[39m\u001b[38;5;241m.\u001b[39m__dataRange \u001b[38;5;129;01mis\u001b[39;00m \u001b[38;5;129;01mnot\u001b[39;00m \u001b[38;5;28;01mNone\u001b[39;00m: \u001b[38;5;28;01mreturn\u001b[39;00m \u001b[38;5;28mself\u001b[39m\u001b[38;5;241m.\u001b[39m__dataRange\n\u001b[0;32m-> 1487\u001b[0m \u001b[38;5;28mself\u001b[39m\u001b[38;5;241m.\u001b[39m__dataRange \u001b[38;5;241m=\u001b[39m nir\u001b[38;5;241m.\u001b[39mnaninfrange(\u001b[38;5;28;43mself\u001b[39;49m\u001b[38;5;241;43m.\u001b[39;49m\u001b[43mdata\u001b[49m)\n\u001b[1;32m   1488\u001b[0m \u001b[38;5;28;01mreturn\u001b[39;00m \u001b[38;5;28mself\u001b[39m\u001b[38;5;241m.\u001b[39m__dataRange\n",
      "File \u001b[0;32m/opt/conda/lib/python3.11/site-packages/fsl/data/image.py:1453\u001b[0m, in \u001b[0;36mImage.data\u001b[0;34m(self)\u001b[0m\n\u001b[1;32m   1448\u001b[0m \u001b[38;5;66;03m# The internal cache has real image shape -\u001b[39;00m\n\u001b[1;32m   1449\u001b[0m \u001b[38;5;66;03m# this makes code in __getitem__ easier,\u001b[39;00m\n\u001b[1;32m   1450\u001b[0m \u001b[38;5;66;03m# as it can use the real shape regardless\u001b[39;00m\n\u001b[1;32m   1451\u001b[0m \u001b[38;5;66;03m# of how the data is accessed\u001b[39;00m\n\u001b[1;32m   1452\u001b[0m \u001b[38;5;28;01mif\u001b[39;00m \u001b[38;5;28mself\u001b[39m\u001b[38;5;241m.\u001b[39m__data \u001b[38;5;129;01mis\u001b[39;00m \u001b[38;5;28;01mNone\u001b[39;00m:\n\u001b[0;32m-> 1453\u001b[0m     \u001b[38;5;28mself\u001b[39m\u001b[38;5;241m.\u001b[39m__data \u001b[38;5;241m=\u001b[39m \u001b[38;5;28;43mself\u001b[39;49m\u001b[38;5;241;43m.\u001b[39;49m\u001b[43mnibImage\u001b[49m\u001b[38;5;241;43m.\u001b[39;49m\u001b[43mdataobj\u001b[49m\u001b[43m[\u001b[49m\u001b[43m:\u001b[49m\u001b[43m]\u001b[49m\n\u001b[1;32m   1455\u001b[0m \u001b[38;5;28;01mreturn\u001b[39;00m \u001b[38;5;28mself\u001b[39m\u001b[38;5;241m.\u001b[39m__data\u001b[38;5;241m.\u001b[39mreshape(\u001b[38;5;28mself\u001b[39m\u001b[38;5;241m.\u001b[39mshape)\n",
      "File \u001b[0;32m/opt/conda/lib/python3.11/site-packages/nibabel/arrayproxy.py:463\u001b[0m, in \u001b[0;36mArrayProxy.__getitem__\u001b[0;34m(self, slicer)\u001b[0m\n\u001b[1;32m    462\u001b[0m \u001b[38;5;28;01mdef\u001b[39;00m \u001b[38;5;21m__getitem__\u001b[39m(\u001b[38;5;28mself\u001b[39m, slicer):\n\u001b[0;32m--> 463\u001b[0m     \u001b[38;5;28;01mreturn\u001b[39;00m \u001b[38;5;28;43mself\u001b[39;49m\u001b[38;5;241;43m.\u001b[39;49m\u001b[43m_get_scaled\u001b[49m\u001b[43m(\u001b[49m\u001b[43mdtype\u001b[49m\u001b[38;5;241;43m=\u001b[39;49m\u001b[38;5;28;43;01mNone\u001b[39;49;00m\u001b[43m,\u001b[49m\u001b[43m \u001b[49m\u001b[43mslicer\u001b[49m\u001b[38;5;241;43m=\u001b[39;49m\u001b[43mslicer\u001b[49m\u001b[43m)\u001b[49m\n",
      "File \u001b[0;32m/opt/conda/lib/python3.11/site-packages/nibabel/arrayproxy.py:424\u001b[0m, in \u001b[0;36mArrayProxy._get_scaled\u001b[0;34m(self, dtype, slicer)\u001b[0m\n\u001b[1;32m    422\u001b[0m     scl_inter \u001b[38;5;241m=\u001b[39m scl_inter\u001b[38;5;241m.\u001b[39mastype(use_dtype)\n\u001b[1;32m    423\u001b[0m \u001b[38;5;66;03m# Read array and upcast as necessary for big slopes, intercepts\u001b[39;00m\n\u001b[0;32m--> 424\u001b[0m scaled \u001b[38;5;241m=\u001b[39m apply_read_scaling(\u001b[38;5;28;43mself\u001b[39;49m\u001b[38;5;241;43m.\u001b[39;49m\u001b[43m_get_unscaled\u001b[49m\u001b[43m(\u001b[49m\u001b[43mslicer\u001b[49m\u001b[38;5;241;43m=\u001b[39;49m\u001b[43mslicer\u001b[49m\u001b[43m)\u001b[49m, scl_slope, scl_inter)\n\u001b[1;32m    425\u001b[0m \u001b[38;5;28;01mif\u001b[39;00m dtype \u001b[38;5;129;01mis\u001b[39;00m \u001b[38;5;129;01mnot\u001b[39;00m \u001b[38;5;28;01mNone\u001b[39;00m:\n\u001b[1;32m    426\u001b[0m     scaled \u001b[38;5;241m=\u001b[39m scaled\u001b[38;5;241m.\u001b[39mastype(np\u001b[38;5;241m.\u001b[39mpromote_types(scaled\u001b[38;5;241m.\u001b[39mdtype, dtype), copy\u001b[38;5;241m=\u001b[39m\u001b[38;5;28;01mFalse\u001b[39;00m)\n",
      "File \u001b[0;32m/opt/conda/lib/python3.11/site-packages/nibabel/arrayproxy.py:394\u001b[0m, in \u001b[0;36mArrayProxy._get_unscaled\u001b[0;34m(self, slicer)\u001b[0m\n\u001b[1;32m    390\u001b[0m \u001b[38;5;28;01mif\u001b[39;00m canonical_slicers(slicer, \u001b[38;5;28mself\u001b[39m\u001b[38;5;241m.\u001b[39m_shape, \u001b[38;5;28;01mFalse\u001b[39;00m) \u001b[38;5;241m==\u001b[39m canonical_slicers(\n\u001b[1;32m    391\u001b[0m     (), \u001b[38;5;28mself\u001b[39m\u001b[38;5;241m.\u001b[39m_shape, \u001b[38;5;28;01mFalse\u001b[39;00m\n\u001b[1;32m    392\u001b[0m ):\n\u001b[1;32m    393\u001b[0m     \u001b[38;5;28;01mwith\u001b[39;00m \u001b[38;5;28mself\u001b[39m\u001b[38;5;241m.\u001b[39m_get_fileobj() \u001b[38;5;28;01mas\u001b[39;00m fileobj, \u001b[38;5;28mself\u001b[39m\u001b[38;5;241m.\u001b[39m_lock:\n\u001b[0;32m--> 394\u001b[0m         \u001b[38;5;28;01mreturn\u001b[39;00m \u001b[43marray_from_file\u001b[49m\u001b[43m(\u001b[49m\n\u001b[1;32m    395\u001b[0m \u001b[43m            \u001b[49m\u001b[38;5;28;43mself\u001b[39;49m\u001b[38;5;241;43m.\u001b[39;49m\u001b[43m_shape\u001b[49m\u001b[43m,\u001b[49m\n\u001b[1;32m    396\u001b[0m \u001b[43m            \u001b[49m\u001b[38;5;28;43mself\u001b[39;49m\u001b[38;5;241;43m.\u001b[39;49m\u001b[43m_dtype\u001b[49m\u001b[43m,\u001b[49m\n\u001b[1;32m    397\u001b[0m \u001b[43m            \u001b[49m\u001b[43mfileobj\u001b[49m\u001b[43m,\u001b[49m\n\u001b[1;32m    398\u001b[0m \u001b[43m            \u001b[49m\u001b[43moffset\u001b[49m\u001b[38;5;241;43m=\u001b[39;49m\u001b[38;5;28;43mself\u001b[39;49m\u001b[38;5;241;43m.\u001b[39;49m\u001b[43m_offset\u001b[49m\u001b[43m,\u001b[49m\n\u001b[1;32m    399\u001b[0m \u001b[43m            \u001b[49m\u001b[43morder\u001b[49m\u001b[38;5;241;43m=\u001b[39;49m\u001b[38;5;28;43mself\u001b[39;49m\u001b[38;5;241;43m.\u001b[39;49m\u001b[43morder\u001b[49m\u001b[43m,\u001b[49m\n\u001b[1;32m    400\u001b[0m \u001b[43m            \u001b[49m\u001b[43mmmap\u001b[49m\u001b[38;5;241;43m=\u001b[39;49m\u001b[38;5;28;43mself\u001b[39;49m\u001b[38;5;241;43m.\u001b[39;49m\u001b[43m_mmap\u001b[49m\u001b[43m,\u001b[49m\n\u001b[1;32m    401\u001b[0m \u001b[43m        \u001b[49m\u001b[43m)\u001b[49m\n\u001b[1;32m    402\u001b[0m \u001b[38;5;28;01mwith\u001b[39;00m \u001b[38;5;28mself\u001b[39m\u001b[38;5;241m.\u001b[39m_get_fileobj() \u001b[38;5;28;01mas\u001b[39;00m fileobj:\n\u001b[1;32m    403\u001b[0m     \u001b[38;5;28;01mreturn\u001b[39;00m fileslice(\n\u001b[1;32m    404\u001b[0m         fileobj,\n\u001b[1;32m    405\u001b[0m         slicer,\n\u001b[0;32m   (...)\u001b[0m\n\u001b[1;32m    410\u001b[0m         lock\u001b[38;5;241m=\u001b[39m\u001b[38;5;28mself\u001b[39m\u001b[38;5;241m.\u001b[39m_lock,\n\u001b[1;32m    411\u001b[0m     )\n",
      "File \u001b[0;32m/opt/conda/lib/python3.11/site-packages/nibabel/volumeutils.py:472\u001b[0m, in \u001b[0;36marray_from_file\u001b[0;34m(shape, in_dtype, infile, offset, order, mmap)\u001b[0m\n\u001b[1;32m    470\u001b[0m     needs_copy \u001b[38;5;241m=\u001b[39m \u001b[38;5;28;01mTrue\u001b[39;00m\n\u001b[1;32m    471\u001b[0m \u001b[38;5;28;01mif\u001b[39;00m n_bytes \u001b[38;5;241m!=\u001b[39m n_read:\n\u001b[0;32m--> 472\u001b[0m     \u001b[38;5;28;01mraise\u001b[39;00m \u001b[38;5;167;01mOSError\u001b[39;00m(\n\u001b[1;32m    473\u001b[0m         \u001b[38;5;124mf\u001b[39m\u001b[38;5;124m'\u001b[39m\u001b[38;5;124mExpected \u001b[39m\u001b[38;5;132;01m{\u001b[39;00mn_bytes\u001b[38;5;132;01m}\u001b[39;00m\u001b[38;5;124m bytes, got \u001b[39m\u001b[38;5;132;01m{\u001b[39;00mn_read\u001b[38;5;132;01m}\u001b[39;00m\u001b[38;5;124m bytes from \u001b[39m\u001b[38;5;124m'\u001b[39m\n\u001b[1;32m    474\u001b[0m         \u001b[38;5;124mf\u001b[39m\u001b[38;5;124m\"\u001b[39m\u001b[38;5;132;01m{\u001b[39;00m\u001b[38;5;28mgetattr\u001b[39m(infile,\u001b[38;5;250m \u001b[39m\u001b[38;5;124m'\u001b[39m\u001b[38;5;124mname\u001b[39m\u001b[38;5;124m'\u001b[39m,\u001b[38;5;250m \u001b[39m\u001b[38;5;124m'\u001b[39m\u001b[38;5;124mobject\u001b[39m\u001b[38;5;124m'\u001b[39m)\u001b[38;5;132;01m}\u001b[39;00m\u001b[38;5;130;01m\\n\u001b[39;00m\u001b[38;5;124m - could the file be damaged?\u001b[39m\u001b[38;5;124m\"\u001b[39m\n\u001b[1;32m    475\u001b[0m     )\n\u001b[1;32m    476\u001b[0m arr: np\u001b[38;5;241m.\u001b[39mndarray \u001b[38;5;241m=\u001b[39m np\u001b[38;5;241m.\u001b[39mndarray(shape, in_dtype, buffer\u001b[38;5;241m=\u001b[39mdata_bytes, order\u001b[38;5;241m=\u001b[39morder)\n\u001b[1;32m    477\u001b[0m \u001b[38;5;28;01mif\u001b[39;00m needs_copy:\n",
      "\u001b[0;31mOSError\u001b[0m: Expected 2050773088 bytes, got 1525196476 bytes from object\n - could the file be damaged?"
     ]
    },
    {
     "name": "stderr",
     "output_type": "stream",
     "text": [
      "Traceback (most recent call last):\n",
      "  File \"/opt/conda/lib/python3.11/site-packages/fsleyes/displaycontext/displaycontext.py\", line 524, in getDisplay\n",
      "    display = self.__displays[overlay]\n",
      "              ~~~~~~~~~~~~~~~^^^^^^^^^\n",
      "KeyError: Image(sub-101410_tfMRI_MOTOR_LR_moco, /data/mydataset/derivatives/preprocessed_data/sub-101410/func/sub-101410_tfMRI_MOTOR_LR_moco.nii.gz)\n",
      "\n",
      "During handling of the above exception, another exception occurred:\n",
      "\n",
      "Traceback (most recent call last):\n",
      "  File \"/opt/conda/lib/python3.11/site-packages/fsleyes/displaycontext/displaycontext.py\", line 524, in getDisplay\n",
      "    display = self.__displays[overlay]\n",
      "              ~~~~~~~~~~~~~~~^^^^^^^^^\n",
      "KeyError: Image(sub-101410_tfMRI_MOTOR_LR_moco, /data/mydataset/derivatives/preprocessed_data/sub-101410/func/sub-101410_tfMRI_MOTOR_LR_moco.nii.gz)\n",
      "\n",
      "During handling of the above exception, another exception occurred:\n",
      "\n",
      "Traceback (most recent call last):\n",
      "  File \"/opt/conda/lib/python3.11/site-packages/wx/core.py\", line 3427, in <lambda>\n",
      "    lambda event: event.callable(*event.args, **event.kw) )\n",
      "                  ^^^^^^^^^^^^^^^^^^^^^^^^^^^^^^^^^^^^^^^\n",
      "  File \"/opt/conda/lib/python3.11/site-packages/fsleyes/gl/__init__.py\", line 1475, in doInit\n",
      "    self._initGL()\n",
      "  File \"/opt/conda/lib/python3.11/site-packages/fsleyes/gl/slicecanvas.py\", line 573, in _initGL\n",
      "    self._overlayListChanged()\n",
      "  File \"/opt/conda/lib/python3.11/site-packages/fsleyes/gl/slicecanvas.py\", line 934, in _overlayListChanged\n",
      "    self.__genGLObject(overlay, refresh=False)\n",
      "  File \"/opt/conda/lib/python3.11/site-packages/fsleyes/gl/slicecanvas.py\", line 811, in __genGLObject\n",
      "    display = self.displayCtx.getDisplay(overlay)\n",
      "              ^^^^^^^^^^^^^^^^^^^^^^^^^^^^^^^^^^^\n",
      "  File \"/opt/conda/lib/python3.11/site-packages/fsleyes/displaycontext/displaycontext.py\", line 531, in getDisplay\n",
      "    dParent = self.getParent().getDisplay(overlay, **kwargs)\n",
      "              ^^^^^^^^^^^^^^^^^^^^^^^^^^^^^^^^^^^^^^^^^^^^^^\n",
      "  File \"/opt/conda/lib/python3.11/site-packages/fsleyes/displaycontext/displaycontext.py\", line 535, in getDisplay\n",
      "    display = Display(overlay,\n",
      "              ^^^^^^^^^^^^^^^^\n",
      "  File \"/opt/conda/lib/python3.11/site-packages/fsleyes/displaycontext/display.py\", line 178, in __init__\n",
      "    self.__overlayTypeChanged()\n",
      "  File \"/opt/conda/lib/python3.11/site-packages/fsleyes/displaycontext/display.py\", line 371, in __overlayTypeChanged\n",
      "    self.opts\n",
      "  File \"/opt/conda/lib/python3.11/site-packages/fsleyes/displaycontext/display.py\", line 237, in opts\n",
      "    self.__displayOpts = self.__makeDisplayOpts()\n",
      "                         ^^^^^^^^^^^^^^^^^^^^^^^^\n",
      "  File \"/opt/conda/lib/python3.11/site-packages/fsleyes/displaycontext/display.py\", line 282, in __makeDisplayOpts\n",
      "    return optType(self.__overlay,\n",
      "           ^^^^^^^^^^^^^^^^^^^^^^^\n",
      "  File \"/opt/conda/lib/python3.11/site-packages/fsleyes/displaycontext/volumeopts.py\", line 226, in __init__\n",
      "    cmapopts .ColourMapOpts.__init__(self)\n",
      "  File \"/opt/conda/lib/python3.11/site-packages/fsleyes/displaycontext/colourmapopts.py\", line 312, in __init__\n",
      "    self.updateDataRange(False, False, False)\n",
      "  File \"/opt/conda/lib/python3.11/site-packages/fsleyes/displaycontext/colourmapopts.py\", line 464, in updateDataRange\n",
      "    dataMin, dataMax = self.getDataRange()\n",
      "                       ^^^^^^^^^^^^^^^^^^^\n",
      "  File \"/opt/conda/lib/python3.11/site-packages/fsleyes/displaycontext/volumeopts.py\", line 326, in getDataRange\n",
      "    else:                            return self.overlay.dataRange\n",
      "                                            ^^^^^^^^^^^^^^^^^^^^^^\n",
      "  File \"/opt/conda/lib/python3.11/site-packages/fsl/data/image.py\", line 1487, in dataRange\n",
      "    self.__dataRange = nir.naninfrange(self.data)\n",
      "                                       ^^^^^^^^^\n",
      "  File \"/opt/conda/lib/python3.11/site-packages/fsl/data/image.py\", line 1453, in data\n",
      "    self.__data = self.nibImage.dataobj[:]\n",
      "                  ~~~~~~~~~~~~~~~~~~~~~^^^\n",
      "  File \"/opt/conda/lib/python3.11/site-packages/nibabel/arrayproxy.py\", line 463, in __getitem__\n",
      "    return self._get_scaled(dtype=None, slicer=slicer)\n",
      "           ^^^^^^^^^^^^^^^^^^^^^^^^^^^^^^^^^^^^^^^^^^^\n",
      "  File \"/opt/conda/lib/python3.11/site-packages/nibabel/arrayproxy.py\", line 424, in _get_scaled\n",
      "    scaled = apply_read_scaling(self._get_unscaled(slicer=slicer), scl_slope, scl_inter)\n",
      "                                ^^^^^^^^^^^^^^^^^^^^^^^^^^^^^^^^^\n",
      "  File \"/opt/conda/lib/python3.11/site-packages/nibabel/arrayproxy.py\", line 394, in _get_unscaled\n",
      "    return array_from_file(\n",
      "           ^^^^^^^^^^^^^^^^\n",
      "  File \"/opt/conda/lib/python3.11/site-packages/nibabel/volumeutils.py\", line 472, in array_from_file\n",
      "    raise OSError(\n",
      "OSError: Expected 2050773088 bytes, got 1525196476 bytes from object\n",
      " - could the file be damaged?\n",
      "Traceback (most recent call last):\n",
      "  File \"/opt/conda/lib/python3.11/site-packages/fsleyes/displaycontext/displaycontext.py\", line 524, in getDisplay\n",
      "    display = self.__displays[overlay]\n",
      "              ~~~~~~~~~~~~~~~^^^^^^^^^\n",
      "KeyError: Image(sub-101410_tfMRI_MOTOR_LR_moco, /data/mydataset/derivatives/preprocessed_data/sub-101410/func/sub-101410_tfMRI_MOTOR_LR_moco.nii.gz)\n",
      "\n",
      "During handling of the above exception, another exception occurred:\n",
      "\n",
      "Traceback (most recent call last):\n",
      "  File \"/opt/conda/lib/python3.11/site-packages/fsleyes/displaycontext/displaycontext.py\", line 524, in getDisplay\n",
      "    display = self.__displays[overlay]\n",
      "              ~~~~~~~~~~~~~~~^^^^^^^^^\n",
      "KeyError: Image(sub-101410_tfMRI_MOTOR_LR_moco, /data/mydataset/derivatives/preprocessed_data/sub-101410/func/sub-101410_tfMRI_MOTOR_LR_moco.nii.gz)\n",
      "\n",
      "During handling of the above exception, another exception occurred:\n",
      "\n",
      "Traceback (most recent call last):\n",
      "  File \"/opt/conda/lib/python3.11/site-packages/wx/core.py\", line 3427, in <lambda>\n",
      "    lambda event: event.callable(*event.args, **event.kw) )\n",
      "                  ^^^^^^^^^^^^^^^^^^^^^^^^^^^^^^^^^^^^^^^\n",
      "  File \"/opt/conda/lib/python3.11/site-packages/fsleyes/gl/__init__.py\", line 1475, in doInit\n",
      "    self._initGL()\n",
      "  File \"/opt/conda/lib/python3.11/site-packages/fsleyes/gl/slicecanvas.py\", line 573, in _initGL\n",
      "    self._overlayListChanged()\n",
      "  File \"/opt/conda/lib/python3.11/site-packages/fsleyes/gl/slicecanvas.py\", line 934, in _overlayListChanged\n",
      "    self.__genGLObject(overlay, refresh=False)\n",
      "  File \"/opt/conda/lib/python3.11/site-packages/fsleyes/gl/slicecanvas.py\", line 811, in __genGLObject\n",
      "    display = self.displayCtx.getDisplay(overlay)\n",
      "              ^^^^^^^^^^^^^^^^^^^^^^^^^^^^^^^^^^^\n",
      "  File \"/opt/conda/lib/python3.11/site-packages/fsleyes/displaycontext/displaycontext.py\", line 531, in getDisplay\n",
      "    dParent = self.getParent().getDisplay(overlay, **kwargs)\n",
      "              ^^^^^^^^^^^^^^^^^^^^^^^^^^^^^^^^^^^^^^^^^^^^^^\n",
      "  File \"/opt/conda/lib/python3.11/site-packages/fsleyes/displaycontext/displaycontext.py\", line 535, in getDisplay\n",
      "    display = Display(overlay,\n",
      "              ^^^^^^^^^^^^^^^^\n",
      "  File \"/opt/conda/lib/python3.11/site-packages/fsleyes/displaycontext/display.py\", line 178, in __init__\n",
      "    self.__overlayTypeChanged()\n",
      "  File \"/opt/conda/lib/python3.11/site-packages/fsleyes/displaycontext/display.py\", line 371, in __overlayTypeChanged\n",
      "    self.opts\n",
      "  File \"/opt/conda/lib/python3.11/site-packages/fsleyes/displaycontext/display.py\", line 237, in opts\n",
      "    self.__displayOpts = self.__makeDisplayOpts()\n",
      "                         ^^^^^^^^^^^^^^^^^^^^^^^^\n",
      "  File \"/opt/conda/lib/python3.11/site-packages/fsleyes/displaycontext/display.py\", line 282, in __makeDisplayOpts\n",
      "    return optType(self.__overlay,\n",
      "           ^^^^^^^^^^^^^^^^^^^^^^^\n",
      "  File \"/opt/conda/lib/python3.11/site-packages/fsleyes/displaycontext/volumeopts.py\", line 226, in __init__\n",
      "    cmapopts .ColourMapOpts.__init__(self)\n",
      "  File \"/opt/conda/lib/python3.11/site-packages/fsleyes/displaycontext/colourmapopts.py\", line 312, in __init__\n",
      "    self.updateDataRange(False, False, False)\n",
      "  File \"/opt/conda/lib/python3.11/site-packages/fsleyes/displaycontext/colourmapopts.py\", line 464, in updateDataRange\n",
      "    dataMin, dataMax = self.getDataRange()\n",
      "                       ^^^^^^^^^^^^^^^^^^^\n",
      "  File \"/opt/conda/lib/python3.11/site-packages/fsleyes/displaycontext/volumeopts.py\", line 326, in getDataRange\n",
      "    else:                            return self.overlay.dataRange\n",
      "                                            ^^^^^^^^^^^^^^^^^^^^^^\n",
      "  File \"/opt/conda/lib/python3.11/site-packages/fsl/data/image.py\", line 1487, in dataRange\n",
      "    self.__dataRange = nir.naninfrange(self.data)\n",
      "                                       ^^^^^^^^^\n",
      "  File \"/opt/conda/lib/python3.11/site-packages/fsl/data/image.py\", line 1453, in data\n",
      "    self.__data = self.nibImage.dataobj[:]\n",
      "                  ~~~~~~~~~~~~~~~~~~~~~^^^\n",
      "  File \"/opt/conda/lib/python3.11/site-packages/nibabel/arrayproxy.py\", line 463, in __getitem__\n",
      "    return self._get_scaled(dtype=None, slicer=slicer)\n",
      "           ^^^^^^^^^^^^^^^^^^^^^^^^^^^^^^^^^^^^^^^^^^^\n",
      "  File \"/opt/conda/lib/python3.11/site-packages/nibabel/arrayproxy.py\", line 424, in _get_scaled\n",
      "    scaled = apply_read_scaling(self._get_unscaled(slicer=slicer), scl_slope, scl_inter)\n",
      "                                ^^^^^^^^^^^^^^^^^^^^^^^^^^^^^^^^^\n",
      "  File \"/opt/conda/lib/python3.11/site-packages/nibabel/arrayproxy.py\", line 394, in _get_unscaled\n",
      "    return array_from_file(\n",
      "           ^^^^^^^^^^^^^^^^\n",
      "  File \"/opt/conda/lib/python3.11/site-packages/nibabel/volumeutils.py\", line 472, in array_from_file\n",
      "    raise OSError(\n",
      "OSError: Expected 2050773088 bytes, got 1525196476 bytes from object\n",
      " - could the file be damaged?\n",
      "Traceback (most recent call last):\n",
      "  File \"/opt/conda/lib/python3.11/site-packages/fsleyes/displaycontext/displaycontext.py\", line 524, in getDisplay\n",
      "    display = self.__displays[overlay]\n",
      "              ~~~~~~~~~~~~~~~^^^^^^^^^\n",
      "KeyError: Image(sub-101410_tfMRI_MOTOR_LR_moco, /data/mydataset/derivatives/preprocessed_data/sub-101410/func/sub-101410_tfMRI_MOTOR_LR_moco.nii.gz)\n",
      "\n",
      "During handling of the above exception, another exception occurred:\n",
      "\n",
      "Traceback (most recent call last):\n",
      "  File \"/opt/conda/lib/python3.11/site-packages/fsleyes/displaycontext/displaycontext.py\", line 524, in getDisplay\n",
      "    display = self.__displays[overlay]\n",
      "              ~~~~~~~~~~~~~~~^^^^^^^^^\n",
      "KeyError: Image(sub-101410_tfMRI_MOTOR_LR_moco, /data/mydataset/derivatives/preprocessed_data/sub-101410/func/sub-101410_tfMRI_MOTOR_LR_moco.nii.gz)\n",
      "\n",
      "During handling of the above exception, another exception occurred:\n",
      "\n",
      "Traceback (most recent call last):\n",
      "  File \"/opt/conda/lib/python3.11/site-packages/wx/core.py\", line 3427, in <lambda>\n",
      "    lambda event: event.callable(*event.args, **event.kw) )\n",
      "                  ^^^^^^^^^^^^^^^^^^^^^^^^^^^^^^^^^^^^^^^\n",
      "  File \"/opt/conda/lib/python3.11/site-packages/fsleyes/gl/__init__.py\", line 1475, in doInit\n",
      "    self._initGL()\n",
      "  File \"/opt/conda/lib/python3.11/site-packages/fsleyes/gl/slicecanvas.py\", line 573, in _initGL\n",
      "    self._overlayListChanged()\n",
      "  File \"/opt/conda/lib/python3.11/site-packages/fsleyes/gl/slicecanvas.py\", line 934, in _overlayListChanged\n",
      "    self.__genGLObject(overlay, refresh=False)\n",
      "  File \"/opt/conda/lib/python3.11/site-packages/fsleyes/gl/slicecanvas.py\", line 811, in __genGLObject\n",
      "    display = self.displayCtx.getDisplay(overlay)\n",
      "              ^^^^^^^^^^^^^^^^^^^^^^^^^^^^^^^^^^^\n",
      "  File \"/opt/conda/lib/python3.11/site-packages/fsleyes/displaycontext/displaycontext.py\", line 531, in getDisplay\n",
      "    dParent = self.getParent().getDisplay(overlay, **kwargs)\n",
      "              ^^^^^^^^^^^^^^^^^^^^^^^^^^^^^^^^^^^^^^^^^^^^^^\n",
      "  File \"/opt/conda/lib/python3.11/site-packages/fsleyes/displaycontext/displaycontext.py\", line 535, in getDisplay\n",
      "    display = Display(overlay,\n",
      "              ^^^^^^^^^^^^^^^^\n",
      "  File \"/opt/conda/lib/python3.11/site-packages/fsleyes/displaycontext/display.py\", line 178, in __init__\n",
      "    self.__overlayTypeChanged()\n",
      "  File \"/opt/conda/lib/python3.11/site-packages/fsleyes/displaycontext/display.py\", line 371, in __overlayTypeChanged\n",
      "    self.opts\n",
      "  File \"/opt/conda/lib/python3.11/site-packages/fsleyes/displaycontext/display.py\", line 237, in opts\n",
      "    self.__displayOpts = self.__makeDisplayOpts()\n",
      "                         ^^^^^^^^^^^^^^^^^^^^^^^^\n",
      "  File \"/opt/conda/lib/python3.11/site-packages/fsleyes/displaycontext/display.py\", line 282, in __makeDisplayOpts\n",
      "    return optType(self.__overlay,\n",
      "           ^^^^^^^^^^^^^^^^^^^^^^^\n",
      "  File \"/opt/conda/lib/python3.11/site-packages/fsleyes/displaycontext/volumeopts.py\", line 226, in __init__\n",
      "    cmapopts .ColourMapOpts.__init__(self)\n",
      "  File \"/opt/conda/lib/python3.11/site-packages/fsleyes/displaycontext/colourmapopts.py\", line 312, in __init__\n",
      "    self.updateDataRange(False, False, False)\n",
      "  File \"/opt/conda/lib/python3.11/site-packages/fsleyes/displaycontext/colourmapopts.py\", line 464, in updateDataRange\n",
      "    dataMin, dataMax = self.getDataRange()\n",
      "                       ^^^^^^^^^^^^^^^^^^^\n",
      "  File \"/opt/conda/lib/python3.11/site-packages/fsleyes/displaycontext/volumeopts.py\", line 326, in getDataRange\n",
      "    else:                            return self.overlay.dataRange\n",
      "                                            ^^^^^^^^^^^^^^^^^^^^^^\n",
      "  File \"/opt/conda/lib/python3.11/site-packages/fsl/data/image.py\", line 1487, in dataRange\n",
      "    self.__dataRange = nir.naninfrange(self.data)\n",
      "                                       ^^^^^^^^^\n",
      "  File \"/opt/conda/lib/python3.11/site-packages/fsl/data/image.py\", line 1453, in data\n",
      "    self.__data = self.nibImage.dataobj[:]\n",
      "                  ~~~~~~~~~~~~~~~~~~~~~^^^\n",
      "  File \"/opt/conda/lib/python3.11/site-packages/nibabel/arrayproxy.py\", line 463, in __getitem__\n",
      "    return self._get_scaled(dtype=None, slicer=slicer)\n",
      "           ^^^^^^^^^^^^^^^^^^^^^^^^^^^^^^^^^^^^^^^^^^^\n",
      "  File \"/opt/conda/lib/python3.11/site-packages/nibabel/arrayproxy.py\", line 424, in _get_scaled\n",
      "    scaled = apply_read_scaling(self._get_unscaled(slicer=slicer), scl_slope, scl_inter)\n",
      "                                ^^^^^^^^^^^^^^^^^^^^^^^^^^^^^^^^^\n",
      "  File \"/opt/conda/lib/python3.11/site-packages/nibabel/arrayproxy.py\", line 394, in _get_unscaled\n",
      "    return array_from_file(\n",
      "           ^^^^^^^^^^^^^^^^\n",
      "  File \"/opt/conda/lib/python3.11/site-packages/nibabel/volumeutils.py\", line 472, in array_from_file\n",
      "    raise OSError(\n",
      "OSError: Expected 2050773088 bytes, got 1525196476 bytes from object\n",
      " - could the file be damaged?\n"
     ]
    }
   ],
   "source": [
    "fsleyesDisplay.resetOverlays()\n",
    "fsleyesDisplay.load(concat_tfMRI_data_path)\n",
    "fsleyesDisplay.load(path_moco_data)"
   ]
  },
  {
   "cell_type": "code",
   "execution_count": null,
   "id": "5fbc0b88-0c47-4b11-b5a9-04a1c2a24506",
   "metadata": {},
   "outputs": [],
   "source": []
  }
 ],
 "metadata": {
  "kernelspec": {
   "display_name": "Python 3 (ipykernel)",
   "language": "python",
   "name": "python3"
  },
  "language_info": {
   "codemirror_mode": {
    "name": "ipython",
    "version": 3
   },
   "file_extension": ".py",
   "mimetype": "text/x-python",
   "name": "python",
   "nbconvert_exporter": "python",
   "pygments_lexer": "ipython3",
   "version": "3.11.6"
  }
 },
 "nbformat": 4,
 "nbformat_minor": 5
}
