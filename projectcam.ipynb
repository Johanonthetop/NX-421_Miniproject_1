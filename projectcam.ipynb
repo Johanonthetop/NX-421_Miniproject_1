{
 "cells": [
  {
   "cell_type": "raw",
   "id": "f73f95b0-e65d-4b5a-9d97-11f550727c72",
   "metadata": {
    "slideshow": {
     "slide_type": "slide"
    }
   },
   "source": [
    "importing libraries"
   ]
  },
  {
   "cell_type": "code",
   "execution_count": 1,
   "id": "7451d332-daec-4e17-9397-0c4931f0f7ee",
   "metadata": {},
   "outputs": [],
   "source": [
    "import sys\n",
    "import os\n",
    "\n",
    "#####################\n",
    "# Import of utils.py functions\n",
    "#####################\n",
    "# Required to get utils.py and access its functions\n",
    "notebook_dir = os.path.abspath(\"\")\n",
    "parent_dir = os.path.abspath(os.path.join(notebook_dir, '..'))\n",
    "sys.path.append(parent_dir)\n",
    "sys.path.append('.')\n",
    "from utils import loadFSL, FSLeyesServer, mkdir_no_exist, interactive_MCQ\n",
    "\n",
    "####################\n",
    "# DIPY_HOME should be set prior to import of dipy to make sure all downloads point to the right folder\n",
    "####################\n",
    "os.environ[\"DIPY_HOME\"] = \"/home/jovyan/data\"\n",
    "\n",
    "\n",
    "#############################\n",
    "# Loading fsl and freesurfer within Neurodesk\n",
    "# You can find the list of available other modules by clicking on the \"Softwares\" tab on the left\n",
    "#############################\n",
    "import lmod\n",
    "await lmod.purge(force=True)\n",
    "await lmod.load('fsl/6.0.7.4')\n",
    "await lmod.load('freesurfer/7.4.1')\n",
    "await lmod.list()\n",
    "\n",
    "####################\n",
    "# Setup FSL path\n",
    "####################\n",
    "loadFSL()\n",
    "\n",
    "###################\n",
    "# Load all relevant libraries for the lab\n",
    "##################\n",
    "import fsl.wrappers\n",
    "from fsl.wrappers import fslmaths\n",
    "\n",
    "import mne_nirs\n",
    "import nilearn\n",
    "from nilearn.datasets import fetch_development_fmri\n",
    "\n",
    "import mne\n",
    "import mne_nirs\n",
    "import dipy\n",
    "from dipy.data import fetch_bundles_2_subjects, read_bundles_2_subjects\n",
    "import xml.etree.ElementTree as ET\n",
    "import os.path as op\n",
    "import nibabel as nib\n",
    "import glob\n",
    "\n",
    "import ants\n",
    "\n",
    "import openneuro\n",
    "from mne.datasets import sample\n",
    "from mne_bids import BIDSPath, read_raw_bids, print_dir_tree, make_report\n",
    "\n",
    "\n",
    "# Useful imports to define the direct download function below\n",
    "import requests\n",
    "import urllib.request\n",
    "from tqdm import tqdm\n",
    "\n",
    "\n",
    "# FSL function wrappers which we will call from python directly\n",
    "from fsl.wrappers import fast, bet\n",
    "from fsl.wrappers.misc import fslroi\n",
    "from fsl.wrappers import flirt\n",
    "\n",
    "# General purpose imports to handle paths, files etc\n",
    "import glob\n",
    "import pandas as pd\n",
    "import numpy as np\n",
    "import json\n",
    "import subprocess"
   ]
  },
  {
   "cell_type": "code",
   "execution_count": 2,
   "id": "7cb43e23-45b0-4970-8b07-4aefbdd93e03",
   "metadata": {},
   "outputs": [
    {
     "name": "stderr",
     "output_type": "stream",
     "text": [
      "Gtk-Message: 15:03:28.134: Failed to load module \"canberra-gtk-module\"\n"
     ]
    }
   ],
   "source": [
    "%gui wx"
   ]
  },
  {
   "cell_type": "markdown",
   "id": "27c1b6a5-810a-4dfe-90d9-78a2e8cca88b",
   "metadata": {},
   "source": [
    "downloads"
   ]
  },
  {
   "cell_type": "code",
   "execution_count": 3,
   "id": "6223984f-3d87-40cd-8480-c795c7816e38",
   "metadata": {},
   "outputs": [],
   "source": [
    "def get_json_from_file(fname):\n",
    "    f = open(fname)\n",
    "    data = json.load(f)\n",
    "    f.close()\n",
    "    return data"
   ]
  },
  {
   "cell_type": "markdown",
   "id": "98a9b894-3fcd-4475-99af-ca4d3dc0d208",
   "metadata": {},
   "source": [
    "starting FSL"
   ]
  },
  {
   "cell_type": "code",
   "execution_count": 4,
   "id": "d99ddc7c-7af2-4aca-9d35-9e6b7c3dff54",
   "metadata": {
    "editable": false,
    "slideshow": {
     "slide_type": ""
    },
    "tags": []
   },
   "outputs": [
    {
     "name": "stderr",
     "output_type": "stream",
     "text": [
      "15:03:35: Debug: Adding duplicate image handler for 'Windows bitmap file'\n",
      "15:03:35: Debug: Adding duplicate animation handler for '1' type\n",
      "15:03:35: Debug: Adding duplicate animation handler for '2' type\n",
      "15:03:35: Debug: Adding duplicate image handler for 'Windows bitmap file'\n",
      "15:03:35: Debug: Adding duplicate animation handler for '1' type\n",
      "15:03:35: Debug: Adding duplicate animation handler for '2' type\n",
      "\n",
      "(ipykernel_launcher.py:2356): Gtk-CRITICAL **: 15:03:35.200: gtk_window_resize: assertion 'height > 0' failed\n"
     ]
    }
   ],
   "source": [
    "################\n",
    "# Start FSLeyes (very neat tool to visualize MRI data of all sorts) within Python\n",
    "################\n",
    "fsleyesDisplay = FSLeyesServer()\n",
    "fsleyesDisplay.show()"
   ]
  },
  {
   "cell_type": "markdown",
   "id": "fc283d9e-5b85-4d57-b9d2-e78b7f86dfc6",
   "metadata": {},
   "source": [
    "getting dataset"
   ]
  },
  {
   "cell_type": "code",
   "execution_count": 9,
   "id": "6fdf1e55-b9f2-4f2a-aace-4ff41e35653b",
   "metadata": {},
   "outputs": [],
   "source": [
    "dataset_id = 'mydataset'\n",
    "subject = '101410' \n",
    "\n",
    "sample_path = \"/home/jovyan/data\"\n",
    "mkdir_no_exist(sample_path)\n",
    "bids_root = op.join(sample_path, dataset_id)\n",
    "deriv_root = op.join(bids_root, 'derivatives')\n",
    "preproc_root = op.join(bids_root, 'derivatives','preprocessed_data')\n",
    "\n",
    "mkdir_no_exist(bids_root)\n",
    "\n",
    "subject_dir = 'sub-{}'.format(subject)\n",
    "\n",
    "\n",
    "###################\n",
    "# Create folders relevant for preprocessing.\n",
    "# In BIDs, ANYTHING we modify must go in the derivatives folder, to keep original files clean in case we make a mistake.\n",
    "###################\n",
    "mkdir_no_exist(op.join(bids_root, 'derivatives'))\n",
    "preproc_root = op.join(bids_root, 'derivatives','preprocessed_data')\n",
    "mkdir_no_exist(preproc_root)\n",
    "mkdir_no_exist(op.join(preproc_root, 'sub-101410'))\n",
    "mkdir_no_exist(op.join(preproc_root, 'sub-101410', 'anat'))\n",
    "mkdir_no_exist(op.join(preproc_root, 'sub-101410', 'func'))\n",
    "mkdir_no_exist(op.join(preproc_root, 'sub-101410', 'fmap'))"
   ]
  },
  {
   "cell_type": "markdown",
   "id": "fa1260e4-9962-484f-8da3-f0ef1a3bb0f0",
   "metadata": {},
   "source": [
    "skull stripping"
   ]
  },
  {
   "cell_type": "code",
   "execution_count": 10,
   "id": "7a38a969-f44c-42d7-9100-8411f21c08cd",
   "metadata": {},
   "outputs": [
    {
     "name": "stdout",
     "output_type": "stream",
     "text": [
      "Done with BET.\n"
     ]
    }
   ],
   "source": [
    "def get_skull_stripped_anatomical(bids_root, preproc_root, subject_id, robust=False):\n",
    "    \"\"\"\n",
    "    Function to perform skull-stripping (removing the skull around the brain).\n",
    "    This is a simple wrapper around the brain extraction tool (BET) in FSL's suite\n",
    "    It assumes data to be in the BIDS format (which we will cover in the following weeks).\n",
    "    The method also saves the brain mask which was used to extract the brain.\n",
    "\n",
    "    The brain extraction is conducted only on the T1w of the participant.\n",
    "\n",
    "    Parameters\n",
    "    ----------\n",
    "    bids_root: string\n",
    "        The root of the BIDS directory\n",
    "    preproc_root: string\n",
    "        The root of the preprocessed data, where the result of the brain extraction will be saved.\n",
    "    subject_id: string\n",
    "        Subject ID, the subject on which brain extraction should be conducted.\n",
    "    robust: bool\n",
    "        Whether to conduct robust center estimation with BET or not. Default is False.\n",
    "    \"\"\"\n",
    "    # We perform here skull stripping (you'll learn more about it next week!).\n",
    "    # For now all you need to do is that we remove the bones and flesh from the MRI to get the brain!\n",
    "    subject = 'sub-{}'.format(subject_id)\n",
    "    anatomical_path = op.join(bids_root, subject, 'anat', 'sub-{}_T1w.nii.gz'.format(subject_id))\n",
    "    betted_brain_path = op.join(preproc_root, subject, 'anat', 'sub-{}_T1w'.format(subject_id))\n",
    "    os.system('bet {} {} -m {}'.format(anatomical_path, betted_brain_path, '-R' if robust else ''))\n",
    "    print(\"Done with BET.\")\n",
    "\n",
    "resulting_mask_path = op.join(preproc_root, 'sub-101410', 'anat', 'sub-101410_T1w_mask')\n",
    "get_skull_stripped_anatomical(bids_root, preproc_root, \"101410\")"
   ]
  },
  {
   "cell_type": "code",
   "execution_count": 11,
   "id": "1592d713-0163-43d2-9e91-00d51bfa6041",
   "metadata": {},
   "outputs": [],
   "source": [
    "fsleyesDisplay.load(resulting_mask_path)"
   ]
  },
  {
   "cell_type": "code",
   "execution_count": 12,
   "id": "9ac41fce-120f-488b-8d4a-05c76f3da1bf",
   "metadata": {},
   "outputs": [],
   "source": [
    "def apply_fsl_math_approach(img_path, mask_path, masked_img_path):\n",
    "    ###########################\n",
    "    # Solution\n",
    "    # By reading fslmaths documentation, one can see that the -mas option is exactly what we desire.\n",
    "    ###########################\n",
    "    os.system('fslmaths {} -mas {} {}'.format(img_path, mask_path, masked_img_path))\n",
    "    \n",
    "\n",
    "anatomical_path = op.join(bids_root, 'sub-101410', 'anat', 'sub-101410_T1w.nii.gz') # The original brain\n",
    "betted_brain_path = op.join(preproc_root, 'sub-101410', 'anat', 'sub-101410_T1w.nii.gz') # The brain without skull is in the derivatives folder\n",
    "resulting_mask_path = op.join(preproc_root, 'sub-101410', 'anat', 'sub-101410_T1w_mask.nii.gz') # The mask to use\n",
    "\n",
    "apply_fsl_math_approach(anatomical_path, resulting_mask_path, betted_brain_path)"
   ]
  },
  {
   "cell_type": "code",
   "execution_count": 13,
   "id": "fbd25ea1-c0b5-4e65-8b7e-201d2393a9da",
   "metadata": {},
   "outputs": [
    {
     "name": "stderr",
     "output_type": "stream",
     "text": [
      "\n",
      "(ipykernel_launcher.py:2356): Gdk-WARNING **: 15:18:28.770: gdkdrawable-x11.c:952 drawable is not a pixmap or window\n"
     ]
    }
   ],
   "source": [
    "fsleyesDisplay.resetOverlays()\n",
    "fsleyesDisplay.load(betted_brain_path)"
   ]
  },
  {
   "cell_type": "markdown",
   "id": "181cd95a-4d6c-4d25-8e96-57c46df2f9f0",
   "metadata": {},
   "source": [
    "tissue segmentation"
   ]
  },
  {
   "cell_type": "code",
   "execution_count": 15,
   "id": "3a67ed28-d5e6-4674-9b8d-9d9360b3a90c",
   "metadata": {},
   "outputs": [
    {
     "data": {
      "text/plain": [
       "{}"
      ]
     },
     "execution_count": 15,
     "metadata": {},
     "output_type": "execute_result"
    }
   ],
   "source": [
    "anatomical_path = op.join(bids_root, 'sub-101410', 'anat', 'sub-101410_T1w.nii.gz')\n",
    "bet_path = op.join(preproc_root, 'sub-101410', 'anat', 'sub-101410_T1w')\n",
    "\n",
    "#########################\n",
    "# Solution\n",
    "# By reading above: we must apply FAST to the brain-extracted image. Thus we must use the BET path brain.\n",
    "##########################\n",
    "fast_target = bet_path # Replace with either anatomical_path or bet_path (note: you can try both and decide which is more reasonable!)\n",
    "\n",
    "[os.remove(f) for f in glob.glob(op.join(preproc_root, 'sub-101410', 'anat', '*fast*'))] # Just to clean the directory in between runs of the cell\n",
    "segmentation_path = op.join(preproc_root, 'sub-101410', 'anat', 'sub-101410_T1w_fast')\n",
    "fast(imgs=[fast_target], out=segmentation_path, n_classes=3)"
   ]
  },
  {
   "cell_type": "code",
   "execution_count": 17,
   "id": "5e146e99-1bcc-4bf9-9609-803caba1a276",
   "metadata": {},
   "outputs": [],
   "source": [
    "fsleyesDisplay.resetOverlays()\n",
    "fsleyesDisplay.load(bet_path)\n",
    "fsleyesDisplay.load(glob.glob(op.join(preproc_root, 'sub-101410', 'anat','*pve_0*'))[0])\n",
    "fsleyesDisplay.load(glob.glob(op.join(preproc_root, 'sub-101410', 'anat','*pve_1*'))[0])\n",
    "fsleyesDisplay.load(glob.glob(op.join(preproc_root, 'sub-101410', 'anat','*pve_2*'))[0])\n",
    "fsleyesDisplay.displayCtx.getOpts(fsleyesDisplay.overlayList[1]).cmap = 'Red'\n",
    "fsleyesDisplay.displayCtx.getOpts(fsleyesDisplay.overlayList[2]).cmap = 'Green'\n",
    "fsleyesDisplay.displayCtx.getOpts(fsleyesDisplay.overlayList[3]).cmap = 'Blue'"
   ]
  },
  {
   "cell_type": "markdown",
   "id": "de354d7e-8be7-47be-b7e7-ac69ab225052",
   "metadata": {},
   "source": [
    "motion correction"
   ]
  },
  {
   "cell_type": "code",
   "execution_count": 18,
   "id": "7f434034-9357-4790-adb0-ad5d1b27f662",
   "metadata": {},
   "outputs": [
    {
     "ename": "PathError",
     "evalue": "Could not find a supported file with prefix \"/home/jovyan/data/mydataset/sub-101410/func/sub-101410_task-sitrep_run-01_bold\"",
     "output_type": "error",
     "traceback": [
      "\u001b[0;31m---------------------------------------------------------------------------\u001b[0m",
      "\u001b[0;31mPathError\u001b[0m                                 Traceback (most recent call last)",
      "Cell \u001b[0;32mIn[18], line 21\u001b[0m\n\u001b[1;32m     19\u001b[0m path_original_data \u001b[38;5;241m=\u001b[39m op\u001b[38;5;241m.\u001b[39mjoin(bids_root, \u001b[38;5;124m'\u001b[39m\u001b[38;5;124msub-101410\u001b[39m\u001b[38;5;124m'\u001b[39m, \u001b[38;5;124m'\u001b[39m\u001b[38;5;124mfunc\u001b[39m\u001b[38;5;124m'\u001b[39m, \u001b[38;5;124m'\u001b[39m\u001b[38;5;124msub-101410_task-sitrep_run-01_bold\u001b[39m\u001b[38;5;124m'\u001b[39m)\n\u001b[1;32m     20\u001b[0m path_moco_data \u001b[38;5;241m=\u001b[39m op\u001b[38;5;241m.\u001b[39mjoin(preproc_root, \u001b[38;5;124m'\u001b[39m\u001b[38;5;124msub-101410\u001b[39m\u001b[38;5;124m'\u001b[39m, \u001b[38;5;124m'\u001b[39m\u001b[38;5;124mfunc\u001b[39m\u001b[38;5;124m'\u001b[39m, \u001b[38;5;124m'\u001b[39m\u001b[38;5;124msub-101410_task-sitrep_run-01_bold_moco\u001b[39m\u001b[38;5;124m'\u001b[39m)\n\u001b[0;32m---> 21\u001b[0m \u001b[43mmcflirt\u001b[49m\u001b[43m(\u001b[49m\u001b[43minfile\u001b[49m\u001b[38;5;241;43m=\u001b[39;49m\u001b[43mpath_original_data\u001b[49m\u001b[43m,\u001b[49m\u001b[43mo\u001b[49m\u001b[38;5;241;43m=\u001b[39;49m\u001b[43mpath_moco_data\u001b[49m\u001b[43m,\u001b[49m\u001b[43m \u001b[49m\u001b[43mplots\u001b[49m\u001b[38;5;241;43m=\u001b[39;49m\u001b[38;5;28;43;01mTrue\u001b[39;49;00m\u001b[43m,\u001b[49m\u001b[43m \u001b[49m\u001b[43mreport\u001b[49m\u001b[38;5;241;43m=\u001b[39;49m\u001b[38;5;28;43;01mTrue\u001b[39;49;00m\u001b[43m,\u001b[49m\u001b[43m \u001b[49m\u001b[43mdof\u001b[49m\u001b[38;5;241;43m=\u001b[39;49m\u001b[38;5;241;43m6\u001b[39;49m\u001b[43m,\u001b[49m\u001b[43m \u001b[49m\u001b[43mmats\u001b[49m\u001b[38;5;241;43m=\u001b[39;49m\u001b[38;5;28;43;01mTrue\u001b[39;49;00m\u001b[43m)\u001b[49m\n",
      "File \u001b[0;32m/opt/conda/lib/python3.11/site-packages/fsl/wrappers/wrapperutils.py:1309\u001b[0m, in \u001b[0;36mfileOrImage.<locals>.decorator.<locals>.wrapper\u001b[0;34m(*args, **kwargs)\u001b[0m\n\u001b[1;32m   1308\u001b[0m \u001b[38;5;28;01mdef\u001b[39;00m \u001b[38;5;21mwrapper\u001b[39m(\u001b[38;5;241m*\u001b[39margs, \u001b[38;5;241m*\u001b[39m\u001b[38;5;241m*\u001b[39mkwargs):\n\u001b[0;32m-> 1309\u001b[0m     result \u001b[38;5;241m=\u001b[39m \u001b[43mfot\u001b[49m\u001b[43m(\u001b[49m\u001b[38;5;241;43m*\u001b[39;49m\u001b[43margs\u001b[49m\u001b[43m,\u001b[49m\u001b[43m \u001b[49m\u001b[38;5;241;43m*\u001b[39;49m\u001b[38;5;241;43m*\u001b[39;49m\u001b[43mkwargs\u001b[49m\u001b[43m)\u001b[49m\n\u001b[1;32m   1310\u001b[0m     intypes[:] \u001b[38;5;241m=\u001b[39m []\n\u001b[1;32m   1311\u001b[0m     \u001b[38;5;28;01mreturn\u001b[39;00m result\n",
      "File \u001b[0;32m/opt/conda/lib/python3.11/site-packages/fsl/wrappers/wrapperutils.py:947\u001b[0m, in \u001b[0;36mFileOrThing.__call__\u001b[0;34m(self, *args, **kwargs)\u001b[0m\n\u001b[1;32m    945\u001b[0m \u001b[38;5;66;03m# Call the function\u001b[39;00m\n\u001b[1;32m    946\u001b[0m \u001b[38;5;28;01mtry\u001b[39;00m:\n\u001b[0;32m--> 947\u001b[0m     result \u001b[38;5;241m=\u001b[39m \u001b[43mfunc\u001b[49m\u001b[43m(\u001b[49m\u001b[38;5;241;43m*\u001b[39;49m\u001b[43margs\u001b[49m\u001b[43m,\u001b[49m\u001b[43m \u001b[49m\u001b[38;5;241;43m*\u001b[39;49m\u001b[38;5;241;43m*\u001b[39;49m\u001b[43mkwargs\u001b[49m\u001b[43m)\u001b[49m\n\u001b[1;32m    949\u001b[0m \u001b[38;5;28;01mfinally\u001b[39;00m:\n\u001b[1;32m    950\u001b[0m     \u001b[38;5;66;03m# if we're the top-level FileOrThing\u001b[39;00m\n\u001b[1;32m    951\u001b[0m     \u001b[38;5;66;03m# decorator, remove the attributes we\u001b[39;00m\n\u001b[1;32m    952\u001b[0m     \u001b[38;5;66;03m# added above.\u001b[39;00m\n\u001b[1;32m    953\u001b[0m     \u001b[38;5;28;01mif\u001b[39;00m parent:\n",
      "File \u001b[0;32m/opt/conda/lib/python3.11/site-packages/fsl/wrappers/wrapperutils.py:1351\u001b[0m, in \u001b[0;36mfileOrArray.<locals>.decorator.<locals>.wrapper\u001b[0;34m(*args, **kwargs)\u001b[0m\n\u001b[1;32m   1350\u001b[0m \u001b[38;5;28;01mdef\u001b[39;00m \u001b[38;5;21mwrapper\u001b[39m(\u001b[38;5;241m*\u001b[39margs, \u001b[38;5;241m*\u001b[39m\u001b[38;5;241m*\u001b[39mkwargs):\n\u001b[0;32m-> 1351\u001b[0m     \u001b[38;5;28;01mreturn\u001b[39;00m \u001b[43mfot\u001b[49m\u001b[43m(\u001b[49m\u001b[38;5;241;43m*\u001b[39;49m\u001b[43margs\u001b[49m\u001b[43m,\u001b[49m\u001b[43m \u001b[49m\u001b[38;5;241;43m*\u001b[39;49m\u001b[38;5;241;43m*\u001b[39;49m\u001b[43mkwargs\u001b[49m\u001b[43m)\u001b[49m\n",
      "File \u001b[0;32m/opt/conda/lib/python3.11/site-packages/fsl/wrappers/wrapperutils.py:947\u001b[0m, in \u001b[0;36mFileOrThing.__call__\u001b[0;34m(self, *args, **kwargs)\u001b[0m\n\u001b[1;32m    945\u001b[0m \u001b[38;5;66;03m# Call the function\u001b[39;00m\n\u001b[1;32m    946\u001b[0m \u001b[38;5;28;01mtry\u001b[39;00m:\n\u001b[0;32m--> 947\u001b[0m     result \u001b[38;5;241m=\u001b[39m \u001b[43mfunc\u001b[49m\u001b[43m(\u001b[49m\u001b[38;5;241;43m*\u001b[39;49m\u001b[43margs\u001b[49m\u001b[43m,\u001b[49m\u001b[43m \u001b[49m\u001b[38;5;241;43m*\u001b[39;49m\u001b[38;5;241;43m*\u001b[39;49m\u001b[43mkwargs\u001b[49m\u001b[43m)\u001b[49m\n\u001b[1;32m    949\u001b[0m \u001b[38;5;28;01mfinally\u001b[39;00m:\n\u001b[1;32m    950\u001b[0m     \u001b[38;5;66;03m# if we're the top-level FileOrThing\u001b[39;00m\n\u001b[1;32m    951\u001b[0m     \u001b[38;5;66;03m# decorator, remove the attributes we\u001b[39;00m\n\u001b[1;32m    952\u001b[0m     \u001b[38;5;66;03m# added above.\u001b[39;00m\n\u001b[1;32m    953\u001b[0m     \u001b[38;5;28;01mif\u001b[39;00m parent:\n",
      "File \u001b[0;32m/opt/conda/lib/python3.11/site-packages/fsl/wrappers/wrapperutils.py:232\u001b[0m, in \u001b[0;36mgenxwrapper.<locals>.wrapper\u001b[0;34m(*args, **kwargs)\u001b[0m\n\u001b[1;32m    222\u001b[0m \u001b[38;5;66;03m# many wrapper functions use fsl.utils.assertions\u001b[39;00m\n\u001b[1;32m    223\u001b[0m \u001b[38;5;66;03m# statements to check that input arguments are\u001b[39;00m\n\u001b[1;32m    224\u001b[0m \u001b[38;5;66;03m# valid. Disable these if the cmdonly argument is\u001b[39;00m\n\u001b[0;32m   (...)\u001b[0m\n\u001b[1;32m    229\u001b[0m \u001b[38;5;66;03m# may not be valid.\u001b[39;00m\n\u001b[1;32m    230\u001b[0m \u001b[38;5;28;01melse\u001b[39;00m:\n\u001b[1;32m    231\u001b[0m     \u001b[38;5;28;01mwith\u001b[39;00m asrt\u001b[38;5;241m.\u001b[39mdisabled(cmdonly \u001b[38;5;129;01mor\u001b[39;00m (submit \u001b[38;5;129;01mnot\u001b[39;00m \u001b[38;5;129;01min\u001b[39;00m (\u001b[38;5;28;01mNone\u001b[39;00m, \u001b[38;5;28;01mFalse\u001b[39;00m))):\n\u001b[0;32m--> 232\u001b[0m         cmd \u001b[38;5;241m=\u001b[39m \u001b[43mfunc\u001b[49m\u001b[43m(\u001b[49m\u001b[38;5;241;43m*\u001b[39;49m\u001b[43margs\u001b[49m\u001b[43m,\u001b[49m\u001b[43m \u001b[49m\u001b[38;5;241;43m*\u001b[39;49m\u001b[38;5;241;43m*\u001b[39;49m\u001b[43mkwargs\u001b[49m\u001b[43m)\u001b[49m\n\u001b[1;32m    234\u001b[0m \u001b[38;5;28;01mreturn\u001b[39;00m runner(cmd,\n\u001b[1;32m    235\u001b[0m               stderr\u001b[38;5;241m=\u001b[39mstderr,\n\u001b[1;32m    236\u001b[0m               log\u001b[38;5;241m=\u001b[39mlogg,\n\u001b[0;32m   (...)\u001b[0m\n\u001b[1;32m    239\u001b[0m               stdout\u001b[38;5;241m=\u001b[39mstdout,\n\u001b[1;32m    240\u001b[0m               exitcode\u001b[38;5;241m=\u001b[39mexitcode)\n",
      "File \u001b[0;32m/opt/conda/lib/python3.11/site-packages/fsl/wrappers/flirt.py:162\u001b[0m, in \u001b[0;36mmcflirt\u001b[0;34m(infile, **kwargs)\u001b[0m\n\u001b[1;32m    156\u001b[0m \u001b[38;5;129m@wutils\u001b[39m\u001b[38;5;241m.\u001b[39mfileOrImage(\u001b[38;5;124m'\u001b[39m\u001b[38;5;124minfile\u001b[39m\u001b[38;5;124m'\u001b[39m, \u001b[38;5;124m'\u001b[39m\u001b[38;5;124mout\u001b[39m\u001b[38;5;124m'\u001b[39m, \u001b[38;5;124m'\u001b[39m\u001b[38;5;124mreffile\u001b[39m\u001b[38;5;124m'\u001b[39m, outprefix\u001b[38;5;241m=\u001b[39m\u001b[38;5;124m'\u001b[39m\u001b[38;5;124mout\u001b[39m\u001b[38;5;124m'\u001b[39m)\n\u001b[1;32m    157\u001b[0m \u001b[38;5;129m@wutils\u001b[39m\u001b[38;5;241m.\u001b[39mfileOrArray(\u001b[38;5;124m'\u001b[39m\u001b[38;5;124minit\u001b[39m\u001b[38;5;124m'\u001b[39m, outprefix\u001b[38;5;241m=\u001b[39m\u001b[38;5;124m'\u001b[39m\u001b[38;5;124mout\u001b[39m\u001b[38;5;124m'\u001b[39m)\n\u001b[1;32m    158\u001b[0m \u001b[38;5;129m@wutils\u001b[39m\u001b[38;5;241m.\u001b[39mfslwrapper\n\u001b[1;32m    159\u001b[0m \u001b[38;5;28;01mdef\u001b[39;00m \u001b[38;5;21mmcflirt\u001b[39m(infile, \u001b[38;5;241m*\u001b[39m\u001b[38;5;241m*\u001b[39mkwargs):\n\u001b[1;32m    160\u001b[0m \u001b[38;5;250m    \u001b[39m\u001b[38;5;124;03m\"\"\"Wrapper for the ``mcflirt`` command.\"\"\"\u001b[39;00m\n\u001b[0;32m--> 162\u001b[0m     \u001b[43masrt\u001b[49m\u001b[38;5;241;43m.\u001b[39;49m\u001b[43massertIsNifti\u001b[49m\u001b[43m(\u001b[49m\u001b[43minfile\u001b[49m\u001b[43m)\u001b[49m\n\u001b[1;32m    164\u001b[0m     argmap \u001b[38;5;241m=\u001b[39m {\n\u001b[1;32m    165\u001b[0m         \u001b[38;5;124m'\u001b[39m\u001b[38;5;124mtwod\u001b[39m\u001b[38;5;124m'\u001b[39m : \u001b[38;5;124m'\u001b[39m\u001b[38;5;124m2d\u001b[39m\u001b[38;5;124m'\u001b[39m,\n\u001b[1;32m    166\u001b[0m     }\n\u001b[1;32m    168\u001b[0m     valmap \u001b[38;5;241m=\u001b[39m {\n\u001b[1;32m    169\u001b[0m         \u001b[38;5;124m'\u001b[39m\u001b[38;5;124m2d\u001b[39m\u001b[38;5;124m'\u001b[39m      : wutils\u001b[38;5;241m.\u001b[39mSHOW_IF_TRUE,\n\u001b[1;32m    170\u001b[0m         \u001b[38;5;124m'\u001b[39m\u001b[38;5;124mgdt\u001b[39m\u001b[38;5;124m'\u001b[39m     : wutils\u001b[38;5;241m.\u001b[39mSHOW_IF_TRUE,\n\u001b[0;32m   (...)\u001b[0m\n\u001b[1;32m    175\u001b[0m         \u001b[38;5;124m'\u001b[39m\u001b[38;5;124mreport\u001b[39m\u001b[38;5;124m'\u001b[39m  : wutils\u001b[38;5;241m.\u001b[39mSHOW_IF_TRUE,\n\u001b[1;32m    176\u001b[0m     }\n",
      "File \u001b[0;32m/opt/conda/lib/python3.11/site-packages/fsl/utils/assertions.py:70\u001b[0m, in \u001b[0;36m_canDisable.<locals>.wrapper\u001b[0;34m(*args, **kwargs)\u001b[0m\n\u001b[1;32m     68\u001b[0m \u001b[38;5;28;01mdef\u001b[39;00m \u001b[38;5;21mwrapper\u001b[39m(\u001b[38;5;241m*\u001b[39margs, \u001b[38;5;241m*\u001b[39m\u001b[38;5;241m*\u001b[39mkwargs):\n\u001b[1;32m     69\u001b[0m     \u001b[38;5;28;01mif\u001b[39;00m _DISABLE_ASSERTIONS \u001b[38;5;241m==\u001b[39m \u001b[38;5;241m0\u001b[39m:\n\u001b[0;32m---> 70\u001b[0m         \u001b[38;5;28;01mreturn\u001b[39;00m \u001b[43mfunc\u001b[49m\u001b[43m(\u001b[49m\u001b[38;5;241;43m*\u001b[39;49m\u001b[43margs\u001b[49m\u001b[43m,\u001b[49m\u001b[43m \u001b[49m\u001b[38;5;241;43m*\u001b[39;49m\u001b[38;5;241;43m*\u001b[39;49m\u001b[43mkwargs\u001b[49m\u001b[43m)\u001b[49m\n",
      "File \u001b[0;32m/opt/conda/lib/python3.11/site-packages/fsl/utils/assertions.py:105\u001b[0m, in \u001b[0;36massertIsNifti\u001b[0;34m(*args)\u001b[0m\n\u001b[1;32m    103\u001b[0m \u001b[38;5;250m\u001b[39m\u001b[38;5;124;03m\"\"\"Raise an exception if the specified file/s are not nifti.\"\"\"\u001b[39;00m\n\u001b[1;32m    104\u001b[0m \u001b[38;5;28;01mfor\u001b[39;00m f \u001b[38;5;129;01min\u001b[39;00m args:\n\u001b[0;32m--> 105\u001b[0m     f \u001b[38;5;241m=\u001b[39m \u001b[43mensure\u001b[49m\u001b[38;5;241;43m.\u001b[39;49m\u001b[43mensureIsImage\u001b[49m\u001b[43m(\u001b[49m\u001b[43mf\u001b[49m\u001b[43m)\u001b[49m\n\u001b[1;32m    107\u001b[0m     \u001b[38;5;66;03m# Nifti2Image derives from Nifti1Image,\u001b[39;00m\n\u001b[1;32m    108\u001b[0m     \u001b[38;5;66;03m# so we only need to test the latter.\u001b[39;00m\n\u001b[1;32m    109\u001b[0m     \u001b[38;5;28;01massert\u001b[39;00m \u001b[38;5;28misinstance\u001b[39m(f, nib\u001b[38;5;241m.\u001b[39mnifti1\u001b[38;5;241m.\u001b[39mNifti1Image), \\\n\u001b[1;32m    110\u001b[0m         \u001b[38;5;124m'\u001b[39m\u001b[38;5;124mfile must be a nifti (.nii or .nii.gz): \u001b[39m\u001b[38;5;132;01m{}\u001b[39;00m\u001b[38;5;124m'\u001b[39m\u001b[38;5;241m.\u001b[39mformat(f)\n",
      "File \u001b[0;32m/opt/conda/lib/python3.11/site-packages/fsl/utils/ensure.py:27\u001b[0m, in \u001b[0;36mensureIsImage\u001b[0;34m(img)\u001b[0m\n\u001b[1;32m     24\u001b[0m \u001b[38;5;250m\u001b[39m\u001b[38;5;124;03m\"\"\"Ensures that the given ``img`` is an in-memory ``nibabel`` object.\u001b[39;00m\n\u001b[1;32m     25\u001b[0m \u001b[38;5;124;03m\"\"\"\u001b[39;00m\n\u001b[1;32m     26\u001b[0m \u001b[38;5;28;01mif\u001b[39;00m \u001b[38;5;28misinstance\u001b[39m(img, (\u001b[38;5;28mstr\u001b[39m, pathlib\u001b[38;5;241m.\u001b[39mPath)):\n\u001b[0;32m---> 27\u001b[0m     img \u001b[38;5;241m=\u001b[39m \u001b[43mfslimage\u001b[49m\u001b[38;5;241;43m.\u001b[39;49m\u001b[43maddExt\u001b[49m\u001b[43m(\u001b[49m\u001b[43mimg\u001b[49m\u001b[43m)\u001b[49m\n\u001b[1;32m     28\u001b[0m     img \u001b[38;5;241m=\u001b[39m nib\u001b[38;5;241m.\u001b[39mload(img)\n\u001b[1;32m     29\u001b[0m \u001b[38;5;28;01mreturn\u001b[39;00m img\n",
      "File \u001b[0;32m/opt/conda/lib/python3.11/site-packages/fsl/data/image.py:1969\u001b[0m, in \u001b[0;36maddExt\u001b[0;34m(prefix, mustExist, unambiguous)\u001b[0m\n\u001b[1;32m   1967\u001b[0m \u001b[38;5;28;01mif\u001b[39;00m \u001b[38;5;28mstr\u001b[39m(e)\u001b[38;5;241m.\u001b[39mstartswith(\u001b[38;5;124m'\u001b[39m\u001b[38;5;124mMore than\u001b[39m\u001b[38;5;124m'\u001b[39m):\n\u001b[1;32m   1968\u001b[0m     log\u001b[38;5;241m.\u001b[39mwarning(e)\n\u001b[0;32m-> 1969\u001b[0m \u001b[38;5;28;01mraise\u001b[39;00m e\n",
      "File \u001b[0;32m/opt/conda/lib/python3.11/site-packages/fsl/data/image.py:1956\u001b[0m, in \u001b[0;36maddExt\u001b[0;34m(prefix, mustExist, unambiguous)\u001b[0m\n\u001b[1;32m   1952\u001b[0m \u001b[38;5;250m\u001b[39m\u001b[38;5;124;03m\"\"\"Adds a file extension to the given file ``prefix``.  See\u001b[39;00m\n\u001b[1;32m   1953\u001b[0m \u001b[38;5;124;03m:func:`~fsl.utils.path.addExt`.\u001b[39;00m\n\u001b[1;32m   1954\u001b[0m \u001b[38;5;124;03m\"\"\"\u001b[39;00m\n\u001b[1;32m   1955\u001b[0m \u001b[38;5;28;01mtry\u001b[39;00m:\n\u001b[0;32m-> 1956\u001b[0m     \u001b[38;5;28;01mreturn\u001b[39;00m \u001b[43mfslpath\u001b[49m\u001b[38;5;241;43m.\u001b[39;49m\u001b[43maddExt\u001b[49m\u001b[43m(\u001b[49m\u001b[43mprefix\u001b[49m\u001b[43m,\u001b[49m\n\u001b[1;32m   1957\u001b[0m \u001b[43m                          \u001b[49m\u001b[43mallowedExts\u001b[49m\u001b[38;5;241;43m=\u001b[39;49m\u001b[43mALLOWED_EXTENSIONS\u001b[49m\u001b[43m,\u001b[49m\n\u001b[1;32m   1958\u001b[0m \u001b[43m                          \u001b[49m\u001b[43mmustExist\u001b[49m\u001b[38;5;241;43m=\u001b[39;49m\u001b[43mmustExist\u001b[49m\u001b[43m,\u001b[49m\n\u001b[1;32m   1959\u001b[0m \u001b[43m                          \u001b[49m\u001b[43mdefaultExt\u001b[49m\u001b[38;5;241;43m=\u001b[39;49m\u001b[43mdefaultExt\u001b[49m\u001b[43m(\u001b[49m\u001b[43m)\u001b[49m\u001b[43m,\u001b[49m\n\u001b[1;32m   1960\u001b[0m \u001b[43m                          \u001b[49m\u001b[43mfileGroups\u001b[49m\u001b[38;5;241;43m=\u001b[39;49m\u001b[43mFILE_GROUPS\u001b[49m\u001b[43m,\u001b[49m\n\u001b[1;32m   1961\u001b[0m \u001b[43m                          \u001b[49m\u001b[43munambiguous\u001b[49m\u001b[38;5;241;43m=\u001b[39;49m\u001b[43munambiguous\u001b[49m\u001b[43m)\u001b[49m\n\u001b[1;32m   1962\u001b[0m \u001b[38;5;28;01mexcept\u001b[39;00m fslpath\u001b[38;5;241m.\u001b[39mPathError \u001b[38;5;28;01mas\u001b[39;00m e:\n\u001b[1;32m   1963\u001b[0m     \u001b[38;5;66;03m# hacky: if more than one file with\u001b[39;00m\n\u001b[1;32m   1964\u001b[0m     \u001b[38;5;66;03m# the prefix exists, we emit a\u001b[39;00m\n\u001b[1;32m   1965\u001b[0m     \u001b[38;5;66;03m# warning, because in most cases\u001b[39;00m\n\u001b[1;32m   1966\u001b[0m     \u001b[38;5;66;03m# this is a bad thing.\u001b[39;00m\n\u001b[1;32m   1967\u001b[0m     \u001b[38;5;28;01mif\u001b[39;00m \u001b[38;5;28mstr\u001b[39m(e)\u001b[38;5;241m.\u001b[39mstartswith(\u001b[38;5;124m'\u001b[39m\u001b[38;5;124mMore than\u001b[39m\u001b[38;5;124m'\u001b[39m):\n",
      "File \u001b[0;32m/opt/conda/lib/python3.11/site-packages/fsl/utils/path.py:196\u001b[0m, in \u001b[0;36maddExt\u001b[0;34m(prefix, allowedExts, mustExist, defaultExt, fileGroups, unambiguous)\u001b[0m\n\u001b[1;32m    193\u001b[0m \u001b[38;5;66;03m# Could not find any supported file\u001b[39;00m\n\u001b[1;32m    194\u001b[0m \u001b[38;5;66;03m# with the specified prefix\u001b[39;00m\n\u001b[1;32m    195\u001b[0m \u001b[38;5;28;01mif\u001b[39;00m nexists \u001b[38;5;241m==\u001b[39m \u001b[38;5;241m0\u001b[39m:\n\u001b[0;32m--> 196\u001b[0m     \u001b[38;5;28;01mraise\u001b[39;00m PathError(\u001b[38;5;124m'\u001b[39m\u001b[38;5;124mCould not find a supported file \u001b[39m\u001b[38;5;124m'\u001b[39m\n\u001b[1;32m    197\u001b[0m                     \u001b[38;5;124m'\u001b[39m\u001b[38;5;124mwith prefix \u001b[39m\u001b[38;5;124m\"\u001b[39m\u001b[38;5;132;01m{}\u001b[39;00m\u001b[38;5;124m\"\u001b[39m\u001b[38;5;124m'\u001b[39m\u001b[38;5;241m.\u001b[39mformat(prefix))\n\u001b[1;32m    199\u001b[0m \u001b[38;5;66;03m# If ambiguity is ok, return\u001b[39;00m\n\u001b[1;32m    200\u001b[0m \u001b[38;5;66;03m# all matching paths\u001b[39;00m\n\u001b[1;32m    201\u001b[0m \u001b[38;5;28;01mif\u001b[39;00m \u001b[38;5;129;01mnot\u001b[39;00m unambiguous:\n",
      "\u001b[0;31mPathError\u001b[0m: Could not find a supported file with prefix \"/home/jovyan/data/mydataset/sub-101410/func/sub-101410_task-sitrep_run-01_bold\""
     ]
    }
   ],
   "source": [
    "from fsl.wrappers import mcflirt\n",
    "\n",
    "dataset_id = 'mydataset'\n",
    "subject = '101410' \n",
    "\n",
    "sample_path = \"/home/jovyan/data\"\n",
    "mkdir_no_exist(sample_path)\n",
    "bids_root = op.join(os.path.abspath(\"\"),sample_path, dataset_id)\n",
    "deriv_root = op.join(bids_root, 'derivatives')\n",
    "preproc_root = op.join(bids_root, 'derivatives','preprocessed_data')\n",
    "\n",
    "#mkdir_no_exist(bids_root)\n",
    "mkdir_no_exist(deriv_root)\n",
    "mkdir_no_exist(preproc_root)\n",
    "mkdir_no_exist(op.join(preproc_root, 'sub-101410'))\n",
    "mkdir_no_exist(op.join(preproc_root, 'sub-101410', 'func'))\n",
    "mkdir_no_exist(op.join(preproc_root, 'sub-101410', 'anat'))\n",
    "\n",
    "path_original_data = op.join(bids_root, 'sub-101410', 'func', 'sub-101410_task-sitrep_run-01_bold')\n",
    "path_moco_data = op.join(preproc_root, 'sub-101410', 'func', 'sub-101410_task-sitrep_run-01_bold_moco')\n",
    "mcflirt(infile=path_original_data,o=path_moco_data, plots=True, report=True, dof=6, mats=True)"
   ]
  },
  {
   "cell_type": "code",
   "execution_count": null,
   "id": "281ad7a6-1a5a-4c12-8873-3dbf547f76f2",
   "metadata": {},
   "outputs": [],
   "source": [
    "fsleyesDisplay.resetOverlays()\n",
    "fsleyesDisplay.load(path_original_data)\n",
    "fsleyesDisplay.load(path_moco_data)"
   ]
  }
 ],
 "metadata": {
  "kernelspec": {
   "display_name": "Python 3 (ipykernel)",
   "language": "python",
   "name": "python3"
  },
  "language_info": {
   "codemirror_mode": {
    "name": "ipython",
    "version": 3
   },
   "file_extension": ".py",
   "mimetype": "text/x-python",
   "name": "python",
   "nbconvert_exporter": "python",
   "pygments_lexer": "ipython3",
   "version": "3.11.6"
  }
 },
 "nbformat": 4,
 "nbformat_minor": 5
}
