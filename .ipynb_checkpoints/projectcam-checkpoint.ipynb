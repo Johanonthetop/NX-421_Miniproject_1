{
 "cells": [
  {
   "cell_type": "markdown",
   "id": "5f10c6ad-0c1e-4805-8ef9-9c201461efe5",
   "metadata": {},
   "source": [
    "### NX-421: Neural signals and signal processing\n",
    "# Miniproject 1 - Variant 3\n",
    "\n",
    "### Camille Dorster, Toufan Kashaev, Johan Bordet"
   ]
  },
  {
   "cell_type": "markdown",
   "id": "02fa385f-b6c3-433d-a0c9-31e8a8333b2d",
   "metadata": {},
   "source": [
    "### Dataset description\n",
    "The dataset used is a snippet issued from the Human Connectome Project. In particular, this task was adapted from a previously developed one by Buckner and colleagues (Buckner et al. 2011 [2]). Participants are shown visual cues asking them to either tap their left or right fingers, or squeeze their left or right toes, or move their tongue, the goal being to map motor areas. Each block of a movement type lasted ~12 seconds (10 movements), and is preceded by a ~3 second cue. In each of the two runs, there are 13 blocks, with 2 of tongue movements, 4 of hand movements (2 right and 2 left), and 4 of foot movements (2 right and 2 left). In addition, there are 3 15-second fixation blocks per run."
   ]
  },
  {
   "cell_type": "markdown",
   "id": "53021aee-a0ff-4947-b2d4-a66b5936fa0a",
   "metadata": {
    "slideshow": {
     "slide_type": "slide"
    }
   },
   "source": [
    "#### Importing the relevant libraries"
   ]
  },
  {
   "cell_type": "code",
   "execution_count": 1,
   "id": "7451d332-daec-4e17-9397-0c4931f0f7ee",
   "metadata": {},
   "outputs": [],
   "source": [
    "import sys\n",
    "import os\n",
    "\n",
    "#####################\n",
    "# Import of utils.py functions\n",
    "#####################\n",
    "notebook_dir = os.path.abspath(\"\")\n",
    "parent_dir = os.path.abspath(os.path.join(notebook_dir, '..'))\n",
    "sys.path.append(parent_dir)\n",
    "sys.path.append('.')\n",
    "from utils import loadFSL, FSLeyesServer, mkdir_no_exist, interactive_MCQ\n",
    "\n",
    "####################\n",
    "# DIPY_HOME should be set prior to import of dipy to make sure all downloads point to the right folder\n",
    "####################\n",
    "os.environ[\"DIPY_HOME\"] = \"/home/jovyan/data\"\n",
    "\n",
    "#############################\n",
    "# Loading fsl and freesurfer within Neurodesk\n",
    "# You can find the list of available other modules by clicking on the \"Softwares\" tab on the left\n",
    "#############################\n",
    "import lmod\n",
    "await lmod.purge(force=True)\n",
    "await lmod.load('fsl/6.0.7.4')\n",
    "await lmod.load('freesurfer/7.4.1')\n",
    "await lmod.list()\n",
    "\n",
    "####################\n",
    "# Setup FSL path\n",
    "####################\n",
    "loadFSL()\n",
    "\n",
    "import fsl.wrappers\n",
    "from fsl.wrappers import fslmaths\n",
    "\n",
    "import mne_nirs\n",
    "import nilearn\n",
    "from nilearn.datasets import fetch_development_fmri\n",
    "from nilearn.image import load_img, new_img_like, concat_imgs\n",
    "from nilearn.masking import compute_epi_mask, apply_mask, unmask\n",
    "\n",
    "import mne\n",
    "import mne_nirs\n",
    "import dipy\n",
    "from dipy.data import fetch_bundles_2_subjects, read_bundles_2_subjects\n",
    "import xml.etree.ElementTree as ET\n",
    "import os.path as op\n",
    "import nibabel as nib\n",
    "import glob\n",
    "\n",
    "import ants\n",
    "\n",
    "import openneuro\n",
    "from mne.datasets import sample\n",
    "from mne_bids import BIDSPath, read_raw_bids, print_dir_tree, make_report\n",
    "\n",
    "\n",
    "# Useful imports to define the direct download function below\n",
    "import requests\n",
    "import urllib.request\n",
    "from tqdm import tqdm\n",
    "\n",
    "\n",
    "# FSL function wrappers which we will call from python directly\n",
    "from fsl.wrappers import fast, bet\n",
    "from fsl.wrappers.misc import fslroi\n",
    "from fsl.wrappers import flirt\n",
    "\n",
    "# General purpose imports to handle paths, files etc\n",
    "import matplotlib.pyplot as plt\n",
    "import glob\n",
    "import pandas as pd\n",
    "import numpy as np\n",
    "import json\n",
    "import subprocess\n",
    "\n",
    "# Utility function used to load json from file name\n",
    "def get_json_from_file(fname):\n",
    "    f = open(fname)\n",
    "    data = json.load(f)\n",
    "    f.close()\n",
    "    return data\n",
    "\n",
    "%gui wx\n",
    "\n",
    "# ###################\n",
    "# Preparing the paths and structure of the data in folders\n",
    "###################\n",
    "\n",
    "sample_path = \"/home/jovyan/data\"\n",
    "dataset_id = 'mydataset'\n",
    "subject_id = '101410' \n",
    "subject_dir = 'sub-{}'.format(subject_id)\n",
    "\n",
    "bids_root = op.join(sample_path, dataset_id)\n",
    "deriv_root = op.join(bids_root, 'derivatives')\n",
    "preproc_root = op.join(bids_root, 'derivatives','preprocessed_data')\n",
    "preproc_subject_path = op.join(preproc_root, subject_dir)\n",
    "preproc_anat_path = op.join(preproc_root, subject_dir, 'anat')\n",
    "preproc_func_path = op.join(preproc_root, subject_dir, 'func')\n",
    "preproc_fmap_path = op.join(preproc_root, subject_dir, 'fmap')\n",
    "concat_tfMRI_data_path = op.join(preproc_func_path, 'sub-{}_task-motor_concat_scaled.nii.gz'.format(subject_id))\n",
    "gaussian_filtered_path = op.join(preproc_func_path, 'sub-{}_task-motor_concat_bbr'.format(subject_id))\n",
    "\n",
    "###################\n",
    "# Create folders relevant for preprocessing.\n",
    "###################\n",
    "mkdir_no_exist(sample_path)\n",
    "mkdir_no_exist(bids_root)\n",
    "mkdir_no_exist(deriv_root)\n",
    "mkdir_no_exist(preproc_root)\n",
    "mkdir_no_exist(preproc_subject_path)\n",
    "mkdir_no_exist(preproc_anat_path)\n",
    "mkdir_no_exist(preproc_func_path)\n",
    "mkdir_no_exist(preproc_fmap_path)"
   ]
  },
  {
   "cell_type": "markdown",
   "id": "a01ac099-9509-4a03-8dcb-7da9850fd9c9",
   "metadata": {},
   "source": [
    "#### Starting FSLeyes"
   ]
  },
  {
   "cell_type": "code",
   "execution_count": 2,
   "id": "13e12127-c4f3-4c87-8349-174160201cbc",
   "metadata": {},
   "outputs": [
    {
     "name": "stderr",
     "output_type": "stream",
     "text": [
      "20:58:22: Debug: Adding duplicate image handler for 'Windows bitmap file'\n",
      "20:58:22: Debug: Adding duplicate animation handler for '1' type\n",
      "20:58:22: Debug: Adding duplicate animation handler for '2' type\n",
      "20:58:22: Debug: Adding duplicate image handler for 'Windows bitmap file'\n",
      "20:58:22: Debug: Adding duplicate animation handler for '1' type\n",
      "20:58:22: Debug: Adding duplicate animation handler for '2' type\n",
      "\n",
      "(ipykernel_launcher.py:32311): Gtk-CRITICAL **: 20:58:23.072: gtk_window_resize: assertion 'height > 0' failed\n"
     ]
    }
   ],
   "source": [
    "fsleyesDisplay = FSLeyesServer()\n",
    "fsleyesDisplay.show()"
   ]
  },
  {
   "cell_type": "markdown",
   "id": "a76f490a-3a8d-43bb-b0bd-2e1d760fc299",
   "metadata": {},
   "source": [
    "#### Printing project data directories"
   ]
  },
  {
   "cell_type": "code",
   "execution_count": 4,
   "id": "cf7c2f38-8b9e-4e3d-8992-5024f081b42e",
   "metadata": {},
   "outputs": [
    {
     "name": "stdout",
     "output_type": "stream",
     "text": [
      "|mydataset/\n",
      "|--- .ipynb_checkpoints/\n",
      "|--- derivatives/\n",
      "|------ preprocessed_data/\n",
      "|--------- sub-101410/\n",
      "|------------ anat/\n",
      "|------------ fmap/\n",
      "|------------ func/\n",
      "|--- sub-101410/\n",
      "|------ anat/\n",
      "|--------- sub-101410_T1w.nii.gz\n",
      "|------ func/\n",
      "|--------- combined_events.csv\n",
      "|--------- combined_events.tsv\n",
      "|--------- events_LR.csv\n",
      "|--------- events_RL.csv\n",
      "|--------- sub-101410_tfMRI_MOTOR_LR.nii\n",
      "|--------- sub-101410_tfMRI_MOTOR_RL.nii\n",
      "|--------- task-motor_bold.json\n",
      "|--------- .ipynb_checkpoints/\n",
      "|------------ task-motor_bold-checkpoint.json\n"
     ]
    }
   ],
   "source": [
    "print_dir_tree(bids_root, max_depth=4)"
   ]
  },
  {
   "cell_type": "markdown",
   "id": "472804a3-aa09-4542-bdd4-af9da9042b08",
   "metadata": {},
   "source": [
    "# Practicals part 1 - fMRI data preprocessing and GLM analysis\n"
   ]
  },
  {
   "cell_type": "markdown",
   "id": "be48f553-c85b-4131-b5f3-7280306c7824",
   "metadata": {},
   "source": [
    "<table>\n",
    "    <tr><th style='text-align:justify;'>Data type</th><th style='text-align:justify;'>Step name </th><th style='text-align:justify;'>Details of the step</th><th style='text-align:justify;'>FSL tool </th></tr>\n",
    "    <tr><th>Anatomical</th><td></td><td></td></tr>\n",
    "    <tr><td></td><td style='text-align:justify;'>1.a : Skull stripping</td><td style='text-align:justify;'>Removing skull and surrounding tissues to keep only the brain</td><td style='text-align:justify;'>BET</td></tr>\n",
    "    <tr><td></td><td style='text-align:justify;'>1.b : Segmentation</td><td style='text-align:justify;'>Segmenting brain tissues based on their contrasts</td><td style='text-align:justify;'>FAST</td></tr>\n",
    "    <tr><th>Functional</th><th></th><th></th></tr>\n",
    "    <tr><td></td><td style='text-align:left;'>2.b Motion correction</td><td style='text-align:justify;'>Realignment of fMRI volumes to a common reference - typically one volume or the average of the volumes - to correct for inter-volume motion. The extracted motion parameters can be used for subsequent analysis (see GLM next week!)</td><td style='text-align:justify;'>MCFLIRT (which is one suboption of FLIRT in fact)</td></tr>\n",
    "    <tr><td></td><td style='text-align:left;'>2.c (Bonus) Coregistration to anatomical</td><td style='text-align:justify;'>Putting the functional volumes in anatomical space</td><td style='text-align:justify;'>FLIRT (epi_reg being a specialized instance)</td></tr>\n",
    "    <tr><td></td><td style='text-align:left;'>2.d Gaussian smoothing</td><td style='text-align:justify;'>Allowing a bit of lee-way in the voxel's values to account for the imperfection of the registration</td><td style='text-align:justify;'>fslmath with smoothing operation</td></tr>\n",
    "</table>"
   ]
  },
  {
   "cell_type": "markdown",
   "id": "fa1260e4-9962-484f-8da3-f0ef1a3bb0f0",
   "metadata": {},
   "source": [
    "## 1.a : Skull stripping"
   ]
  },
  {
   "cell_type": "markdown",
   "id": "7e6c1b34-c999-4711-90da-4b671913abd7",
   "metadata": {},
   "source": [
    "#### Applying BET to get the betted brain mask"
   ]
  },
  {
   "cell_type": "code",
   "execution_count": 5,
   "id": "7a38a969-f44c-42d7-9100-8411f21c08cd",
   "metadata": {},
   "outputs": [
    {
     "name": "stdout",
     "output_type": "stream",
     "text": [
      "Done with BET.\n"
     ]
    }
   ],
   "source": [
    "resulting_mask_path = op.join(preproc_anat_path, 'sub-{}_T1w_mask'.format(subject_id))\n",
    "anatomical_path = op.join(bids_root, subject_dir, 'anat', 'sub-{}_T1w.nii.gz'.format(subject_id))\n",
    "betted_brain_path = op.join(preproc_anat_path, 'sub-{}_T1w'.format(subject_id))\n",
    "\n",
    "os.system('bet {} {} -m {}'.format(anatomical_path, betted_brain_path, '-R')) # Robust parameter used\n",
    "\n",
    "print(\"Done with BET.\")"
   ]
  },
  {
   "cell_type": "markdown",
   "id": "07bbb3d0-858f-422b-9b17-93bf91bb836f",
   "metadata": {},
   "source": [
    "#### Displaying the mask"
   ]
  },
  {
   "cell_type": "code",
   "execution_count": 6,
   "id": "1592d713-0163-43d2-9e91-00d51bfa6041",
   "metadata": {},
   "outputs": [],
   "source": [
    "fsleyesDisplay.load(resulting_mask_path)"
   ]
  },
  {
   "cell_type": "markdown",
   "id": "1cb63092-7423-41cb-90fa-3a6438a7675f",
   "metadata": {},
   "source": [
    "#### Applying the betted brain mask to the original brain"
   ]
  },
  {
   "cell_type": "code",
   "execution_count": 7,
   "id": "9ac41fce-120f-488b-8d4a-05c76f3da1bf",
   "metadata": {},
   "outputs": [
    {
     "name": "stdout",
     "output_type": "stream",
     "text": [
      "Mask applied.\n"
     ]
    }
   ],
   "source": [
    "anatomical_path = op.join(bids_root, subject_dir, 'anat', 'sub-{}_T1w.nii.gz'.format(subject_id)) # The original brain\n",
    "betted_brain_path = op.join(preproc_anat_path, 'sub-{}_T1w.nii.gz'.format(subject_id)) # The brain without skull is in the derivatives folder\n",
    "resulting_mask_path = op.join(preproc_anat_path, 'sub-{}_T1w_mask'.format(subject_id)) # The mask to use\n",
    "\n",
    "os.system('fslmaths {} -mas {} {}'.format(anatomical_path, resulting_mask_path, betted_brain_path))\n",
    "\n",
    "print(\"Mask applied.\")"
   ]
  },
  {
   "cell_type": "markdown",
   "id": "b24957ba-0e38-4241-9465-19aea2226029",
   "metadata": {},
   "source": [
    "#### Displaying the betted brain"
   ]
  },
  {
   "cell_type": "code",
   "execution_count": 8,
   "id": "fbd25ea1-c0b5-4e65-8b7e-201d2393a9da",
   "metadata": {},
   "outputs": [
    {
     "name": "stderr",
     "output_type": "stream",
     "text": [
      "\n",
      "(ipykernel_launcher.py:4596): Gdk-WARNING **: 20:36:48.210: gdkdrawable-x11.c:952 drawable is not a pixmap or window\n"
     ]
    }
   ],
   "source": [
    "# Display the betted brain\n",
    "fsleyesDisplay.resetOverlays()\n",
    "fsleyesDisplay.load(betted_brain_path)"
   ]
  },
  {
   "cell_type": "markdown",
   "id": "181cd95a-4d6c-4d25-8e96-57c46df2f9f0",
   "metadata": {},
   "source": [
    "## 1.b : Tissue segmentation"
   ]
  },
  {
   "cell_type": "markdown",
   "id": "6ef0c70e-c8cb-4c33-b74e-542003aa318c",
   "metadata": {},
   "source": [
    "#### Applying segmentation to the betted brain"
   ]
  },
  {
   "cell_type": "code",
   "execution_count": 9,
   "id": "3a67ed28-d5e6-4674-9b8d-9d9360b3a90c",
   "metadata": {},
   "outputs": [
    {
     "data": {
      "text/plain": [
       "{}"
      ]
     },
     "execution_count": 9,
     "metadata": {},
     "output_type": "execute_result"
    }
   ],
   "source": [
    "fast_target = betted_brain_path\n",
    "\n",
    "[os.remove(f) for f in glob.glob(op.join(preproc_anat_path, '*fast*'))] # Just to clean the directory in between runs of the cell\n",
    "segmentation_path = op.join(preproc_anat_path, 'sub-101410_T1w_fast')\n",
    "fast(imgs=[fast_target], out=segmentation_path, n_classes=3)"
   ]
  },
  {
   "cell_type": "markdown",
   "id": "e563cfa0-6306-432f-804b-3c923ea334fb",
   "metadata": {},
   "source": [
    "#### Displaying the segmented brain"
   ]
  },
  {
   "cell_type": "code",
   "execution_count": 10,
   "id": "5e146e99-1bcc-4bf9-9609-803caba1a276",
   "metadata": {},
   "outputs": [],
   "source": [
    "fast_target = betted_brain_path\n",
    "# Display the segmented brain\n",
    "fsleyesDisplay.resetOverlays()\n",
    "fsleyesDisplay.load(betted_brain_path)\n",
    "fsleyesDisplay.load(glob.glob(op.join(preproc_anat_path,'*pve_0*'))[0])\n",
    "fsleyesDisplay.load(glob.glob(op.join(preproc_anat_path,'*pve_1*'))[0])\n",
    "fsleyesDisplay.load(glob.glob(op.join(preproc_anat_path,'*pve_2*'))[0])\n",
    "fsleyesDisplay.displayCtx.getOpts(fsleyesDisplay.overlayList[1]).cmap = 'Red'\n",
    "fsleyesDisplay.displayCtx.getOpts(fsleyesDisplay.overlayList[2]).cmap = 'Green'\n",
    "fsleyesDisplay.displayCtx.getOpts(fsleyesDisplay.overlayList[3]).cmap = 'Blue'"
   ]
  },
  {
   "cell_type": "markdown",
   "id": "5524e83f-039d-4322-abbe-92499eb911ad",
   "metadata": {},
   "source": [
    "## 2.a : Variance normalization and concatenation of the runs"
   ]
  },
  {
   "cell_type": "code",
   "execution_count": 12,
   "id": "7c22f8fc-7086-4281-8454-33ae0253f493",
   "metadata": {},
   "outputs": [],
   "source": [
    "LR_tfMRI_data_path = op.join(bids_root, 'sub-101410', 'func', 'sub-{}_tfMRI_MOTOR_LR.nii'.format(subject_id))\n",
    "RL_tfMRI_data_path = op.join(bids_root, 'sub-101410', 'func', 'sub-{}_tfMRI_MOTOR_RL.nii'.format(subject_id))\n",
    "\n",
    "run_files = [\n",
    "    LR_tfMRI_data_path,\n",
    "    RL_tfMRI_data_path,\n",
    "]\n",
    "\n",
    "# Mask to select only the brain\n",
    "runs = [load_img(r) for r in run_files]\n",
    "mask = compute_epi_mask(runs[0])\n",
    "for run in runs[1:]:\n",
    "    mask = new_img_like(mask, (mask.get_fdata()>0) & (compute_epi_mask(run).get_fdata()>0))\n",
    "\n",
    "scaled_runs = []\n",
    "for run in runs:\n",
    "    # Mask to get (T, V)\n",
    "    X = apply_mask(run, mask)                # shape (T, V)\n",
    "    # Variance of the run & rescale to unit variance\n",
    "    # ddof=1 for sample variance; add tiny eps for numerical safety\n",
    "    var = X.var(ddof=1)\n",
    "    X = X / np.sqrt(var + 1e-8)\n",
    "    # Put back to 4D image with original affine/header\n",
    "    scaled_img = unmask(X, mask)\n",
    "    scaled_runs.append(scaled_img)\n",
    "\n",
    "concat_tfMRI_data_path = op.join(preproc_func_path, 'sub-{}_task-motor_concat_scaled.nii.gz'.format(subject_id))\n",
    "# Concatenate timewise AFTER scaling\n",
    "concat_img = concat_imgs(scaled_runs)  # -> sub-101410_task-motor_concat_scaled.nii.gz (in memory)\n",
    "nib.save(concat_img, concat_tfMRI_data_path)\n"
   ]
  },
  {
   "cell_type": "markdown",
   "id": "ede67d27-3f54-4548-9821-b567306e157a",
   "metadata": {},
   "source": [
    "#### Displaying the concatened runs"
   ]
  },
  {
   "cell_type": "code",
   "execution_count": 13,
   "id": "b1116fd6-dd12-44e8-ad89-4ccdf3440c77",
   "metadata": {},
   "outputs": [],
   "source": [
    "fsleyesDisplay.resetOverlays()\n",
    "fsleyesDisplay.load(concat_tfMRI_data_path)"
   ]
  },
  {
   "cell_type": "markdown",
   "id": "de354d7e-8be7-47be-b7e7-ac69ab225052",
   "metadata": {},
   "source": [
    "## 2.b : Motion correction"
   ]
  },
  {
   "cell_type": "markdown",
   "id": "05e40df8-51a4-41fb-91bc-235b302f1748",
   "metadata": {},
   "source": [
    "#### Applying motion correction using mcFlirt"
   ]
  },
  {
   "cell_type": "code",
   "execution_count": 3,
   "id": "7f434034-9357-4790-adb0-ad5d1b27f662",
   "metadata": {},
   "outputs": [
    {
     "name": "stderr",
     "output_type": "stream",
     "text": [
      "Processed data will be saved as /home/jovyan/data/mydataset/derivatives/preprocessed_data/sub-101410/func/sub-101410_tfMRI_MOTOR_LR_moco\n",
      "\n",
      "McFLIRT v 2.0 - FMRI motion correction\n",
      "\n",
      "Reading time series... \n",
      "first iteration - 8mm scaling, set tolerance\n",
      "Rescaling reference volume [284] to 8 mm pixels\n",
      "Registering volumes ... [285][286][287][288][289][290][291][292][293][294][295][296][297][298][299][300][301][302][303][304][305][306][307][308][309][310][311][312][313][314][315][316][317][318][319][320][321][322][323][324][325][326][327][328][329][330][331][332][333][334][335][336][337][338][339][340][341][342][343][344][345][346][347][348][349][350][351][352][353][354][355][356][357][358][359][360][361][362][363][364][365][366][367][368][369][370][371][372][373][374][375][376][377][378][379][380][381][382][383][384][385][386][387][388][389][390][391][392][393][394][395][396][397][398][399][400][401][402][403][404][405][406][407][408][409][410][411][412][413][414][415][416][417][418][419][420][421][422][423][424][425][426][427][428][429][430][431][432][433][434][435][436][437][438][439][440][441][442][443][444][445][446][447][448][449][450][451][452][453][454][455][456][457][458][459][460][461][462][463][464][465][466][467][468][469][470][471][472][473][474][475][476][477][478][479][480][481][482][483][484][485][486][487][488][489][490][491][492][493][494][495][496][497][498][499][500][501][502][503][504][505][506][507][508][509][510][511][512][513][514][515][516][517][518][519][520][521][522][523][524][525][526][527][528][529][530][531][532][533][534][535][536][537][538][539][540][541][542][543][544][545][546][547][548][549][550][551][552][553][554][555][556][557][558][559][560][561][562][563][564][565][566][567][283][282][281][280][279][278][277][276][275][274][273][272][271][270][269][268][267][266][265][264][263][262][261][260][259][258][257][256][255][254][253][252][251][250][249][248][247][246][245][244][243][242][241][240][239][238][237][236][235][234][233][232][231][230][229][228][227][226][225][224][223][222][221][220][219][218][217][216][215][214][213][212][211][210][209][208][207][206][205][204][203][202][201][200][199][198][197][196][195][194][193][192][191][190][189][188][187][186][185][184][183][182][181][180][179][178][177][176][175][174][173][172][171][170][169][168][167][166][165][164][163][162][161][160][159][158][157][156][155][154][153][152][151][150][149][148][147][146][145][144][143][142][141][140][139][138][137][136][135][134][133][132][131][130][129][128][127][126][125][124][123][122][121][120][119][118][117][116][115][114][113][112][111][110][109][108][107][106][105][104][103][102][101][100][99][98][97][96][95][94][93][92][91][90][89][88][87][86][85][84][83][82][81][80][79][78][77][76][75][74][73][72][71][70][69][68][67][66][65][64][63][62][61][60][59][58][57][56][55][54][53][52][51][50][49][48][47][46][45][44][43][42][41][40][39][38][37][36][35][34][33][32][31][30][29][28][27][26][25][24][23][22][21][20][19][18][17][16][15][14][13][12][11][10][9][8][7][6][5][4][3][2][1][0]\n",
      "second iteration - drop to 4mm scaling\n",
      "Rescaling reference volume [284] to 4 mm pixels\n",
      "Registering volumes ... [285][286][287][288][289][290][291][292][293][294][295][296][297][298][299][300][301][302][303][304][305][306][307][308][309][310][311][312][313][314][315][316][317][318][319][320][321][322][323][324][325][326][327][328][329][330][331][332][333][334][335][336][337][338][339][340][341][342][343][344][345][346][347][348][349][350][351][352][353][354][355][356][357][358][359][360][361][362][363][364][365][366][367][368][369][370][371][372][373][374][375][376][377][378][379][380][381][382][383][384][385][386][387][388][389][390][391][392][393][394][395][396][397][398][399][400][401][402][403][404][405][406][407][408][409][410][411][412][413][414][415][416][417][418][419][420][421][422][423][424][425][426][427][428][429][430][431][432][433][434][435][436][437][438][439][440][441][442][443][444][445][446][447][448][449][450][451][452][453][454][455][456][457][458][459][460][461][462][463][464][465][466][467][468][469][470][471][472][473][474][475][476][477][478][479][480][481][482][483][484][485][486][487][488][489][490][491][492][493][494][495][496][497][498][499][500][501][502][503][504][505][506][507][508][509][510][511][512][513][514][515][516][517][518][519][520][521][522][523][524][525][526][527][528][529][530][531][532][533][534][535][536][537][538][539][540][541][542][543][544][545][546][547][548][549][550][551][552][553][554][555][556][557][558][559][560][561][562][563][564][565][566][567][283][282][281][280][279][278][277][276][275][274][273][272][271][270][269][268][267][266][265][264][263][262][261][260][259][258][257][256][255][254][253][252][251][250][249][248][247][246][245][244][243][242][241][240][239][238][237][236][235][234][233][232][231][230][229][228][227][226][225][224][223][222][221][220][219][218][217][216][215][214][213][212][211][210][209][208][207][206][205][204][203][202][201][200][199][198][197][196][195][194][193][192][191][190][189][188][187][186][185][184][183][182][181][180][179][178][177][176][175][174][173][172][171][170][169][168][167][166][165][164][163][162][161][160][159][158][157][156][155][154][153][152][151][150][149][148][147][146][145][144][143][142][141][140][139][138][137][136][135][134][133][132][131][130][129][128][127][126][125][124][123][122][121][120][119][118][117][116][115][114][113][112][111][110][109][108][107][106][105][104][103][102][101][100][99][98][97][96][95][94][93][92][91][90][89][88][87][86][85][84][83][82][81][80][79][78][77][76][75][74][73][72][71][70][69][68][67][66][65][64][63][62][61][60][59][58][57][56][55][54][53][52][51][50][49][48][47][46][45][44][43][42][41][40][39][38][37][36][35][34][33][32][31][30][29][28][27][26][25][24][23][22][21][20][19][18][17][16][15][14][13][12][11][10][9][8][7][6][5][4][3][2][1][0]\n",
      "third iteration - 4mm scaling, eighth tolerance\n"
     ]
    },
    {
     "name": "stdout",
     "output_type": "stream",
     "text": [
      "refnum = 284\n",
      "Original_refvol = -1\n"
     ]
    },
    {
     "name": "stderr",
     "output_type": "stream",
     "text": [
      "Registering volumes ... [285][286][287][288][289][290][291][292][293][294][295][296][297][298][299][300][301][302][303][304][305][306][307][308][309][310][311][312][313][314][315][316][317][318][319][320][321][322][323][324][325][326][327][328][329][330][331][332][333][334][335][336][337][338][339][340][341][342][343][344][345][346][347][348][349][350][351][352][353][354][355][356][357][358][359][360][361][362][363][364][365][366][367][368][369][370][371][372][373][374][375][376][377][378][379][380][381][382][383][384][385][386][387][388][389][390][391][392][393][394][395][396][397][398][399][400][401][402][403][404][405][406][407][408][409][410][411][412][413][414][415][416][417][418][419][420][421][422][423][424][425][426][427][428][429][430][431][432][433][434][435][436][437][438][439][440][441][442][443][444][445][446][447][448][449][450][451][452][453][454][455][456][457][458][459][460][461][462][463][464][465][466][467][468][469][470][471][472][473][474][475][476][477][478][479][480][481][482][483][484][485][486][487][488][489][490][491][492][493][494][495][496][497][498][499][500][501][502][503][504][505][506][507][508][509][510][511][512][513][514][515][516][517][518][519][520][521][522][523][524][525][526][527][528][529][530][531][532][533][534][535][536][537][538][539][540][541][542][543][544][545][546][547][548][549][550][551][552][553][554][555][556][557][558][559][560][561][562][563][564][565][566][567][283][282][281][280][279][278][277][276][275][274][273][272][271][270][269][268][267][266][265][264][263][262][261][260][259][258][257][256][255][254][253][252][251][250][249][248][247][246][245][244][243][242][241][240][239][238][237][236][235][234][233][232][231][230][229][228][227][226][225][224][223][222][221][220][219][218][217][216][215][214][213][212][211][210][209][208][207][206][205][204][203][202][201][200][199][198][197][196][195][194][193][192][191][190][189][188][187][186][185][184][183][182][181][180][179][178][177][176][175][174][173][172][171][170][169][168][167][166][165][164][163][162][161][160][159][158][157][156][155][154][153][152][151][150][149][148][147][146][145][144][143][142][141][140][139][138][137][136][135][134][133][132][131][130][129][128][127][126][125][124][123][122][121][120][119][118][117][116][115][114][113][112][111][110][109][108][107][106][105][104][103][102][101][100][99][98][97][96][95][94][93][92][91][90][89][88][87][86][85][84][83][82][81][80][79][78][77][76][75][74][73][72][71][70][69][68][67][66][65][64][63][62][61][60][59][58][57][56][55][54][53][52][51][50][49][48][47][46][45][44][43][42][41][40][39][38][37][36][35][34][33][32][31][30][29][28][27][26][25][24][23][22][21][20][19][18][17][16][15][14][13][12][11][10][9][8][7][6][5][4][3][2][1][0]\n",
      "Saving motion corrected time series... \n"
     ]
    },
    {
     "data": {
      "text/plain": [
       "{}"
      ]
     },
     "execution_count": 3,
     "metadata": {},
     "output_type": "execute_result"
    }
   ],
   "source": [
    "from fsl.wrappers import mcflirt\n",
    "\n",
    "path_moco_data = op.join(preproc_func_path, 'sub-{}_tfMRI_MOTOR_LR_moco'.format(subject_id))\n",
    "mcflirt(infile=concat_tfMRI_data_path,o=path_moco_data, plots=True, report=True, dof=6, mats=True)"
   ]
  },
  {
   "cell_type": "markdown",
   "id": "afd4669e-e06c-4559-a22f-d1b9bf0babd4",
   "metadata": {},
   "source": [
    "#### Displaying the resulting motion corrected data"
   ]
  },
  {
   "cell_type": "code",
   "execution_count": 3,
   "id": "281ad7a6-1a5a-4c12-8873-3dbf547f76f2",
   "metadata": {},
   "outputs": [
    {
     "name": "stderr",
     "output_type": "stream",
     "text": [
      "\n",
      "(ipykernel_launcher.py:20255): Gdk-WARNING **: 20:52:33.982: gdkdrawable-x11.c:952 drawable is not a pixmap or window\n"
     ]
    }
   ],
   "source": [
    "fsleyesDisplay.resetOverlays()\n",
    "fsleyesDisplay.load(concat_tfMRI_data_path)\n",
    "fsleyesDisplay.load(path_moco_data)"
   ]
  },
  {
   "cell_type": "markdown",
   "id": "6c4b6991-7b52-4f0e-ac43-09f5ac62642e",
   "metadata": {},
   "source": [
    "## 2.d : Gaussian smoothing"
   ]
  },
  {
   "cell_type": "markdown",
   "id": "f56ebb32-ef1b-48ec-8635-1297ee41b280",
   "metadata": {},
   "source": [
    "#### Aplying gaussian smoothing on the motion corrected data"
   ]
  },
  {
   "cell_type": "code",
   "execution_count": 9,
   "id": "5694b98a-32c7-454c-9fa3-227b3d6c1e1f",
   "metadata": {},
   "outputs": [
    {
     "data": {
      "text/plain": [
       "CompletedProcess(args=['fslmaths', '/home/jovyan/data/mydataset/derivatives/preprocessed_data/sub-101410/func/sub-101410_task-motor_concat_scaled.nii.gz', '-s', '6', '/home/jovyan/data/mydataset/derivatives/preprocessed_data/sub-101410/func/sub-101410_task-motor_concat_bbr_smoothed-6mm.nii.gz'], returncode=0)"
      ]
     },
     "execution_count": 9,
     "metadata": {},
     "output_type": "execute_result"
    }
   ],
   "source": [
    "from pathlib import Path\n",
    "\n",
    "in_img = concat_tfMRI_data_path\n",
    "out_img = f\"{gaussian_filtered_path}_smoothed-6mm.nii.gz\"\n",
    "\n",
    "# remove any previous partial file\n",
    "try:\n",
    "    Path(out_img).unlink()\n",
    "except FileNotFoundError:\n",
    "    pass\n",
    "\n",
    "img = nib.load(concat_tfMRI_data_path)\n",
    "# voxel sizes in mm:\n",
    "vx, vy, vz = img.header.get_zooms()[:3]\n",
    "fwhm_mm = 6.0\n",
    "sigma_vox = (fwhm_mm / 2.3548) / np.mean([vx, vy, vz])\n",
    "\n",
    "subprocess.run(['fslmaths', in_img, '-s', '6', out_img], check=True)\n"
   ]
  },
  {
   "cell_type": "markdown",
   "id": "d08e872b-f8e7-44b4-8f74-2bfdf74ee0fe",
   "metadata": {},
   "source": [
    "#### Displaying the resulting smoothed data"
   ]
  },
  {
   "cell_type": "code",
   "execution_count": null,
   "id": "c4c7c02d-fdb2-4bcd-be09-29a72b4185e8",
   "metadata": {},
   "outputs": [],
   "source": [
    "fsleyesDisplay.resetOverlays()\n",
    "#fsleyesDisplay.load(gaussian_filtered_path)\n",
    "#fsleyesDisplay.load(gaussian_filtered_path + '_smoothed-6mm')"
   ]
  },
  {
   "cell_type": "markdown",
   "id": "3ec2cbb6-3e29-4c5e-9699-59bab580ed65",
   "metadata": {},
   "source": [
    "## 3 : GLM "
   ]
  },
  {
   "cell_type": "markdown",
   "id": "c1e7f5d7-3af9-49ea-ae78-9e616aa61d5d",
   "metadata": {},
   "source": [
    "#### Preprocessing the event files"
   ]
  },
  {
   "cell_type": "code",
   "execution_count": 4,
   "id": "c6721a09-134d-4f16-8b11-fc154bd09476",
   "metadata": {},
   "outputs": [],
   "source": [
    "bids_func = op.join(bids_root, 'sub-101410', 'func')\n",
    "\n",
    "# Read events\n",
    "ev1 = pd.read_csv(op.join(bids_func, 'events_LR.csv'))\n",
    "ev2 = pd.read_csv(op.join(bids_func, 'events_RL.csv'))\n",
    "\n",
    "# Renaming contion to trial_type\n",
    "ev1 = ev1.rename(columns={'condition': 'trial_type'})\n",
    "ev2 = ev2.rename(columns={'condition': 'trial_type'})\n",
    "\n",
    "# Compute time offset for run 2 from run 1 BOLD\n",
    "run1_bold = op.join(bids_func, 'sub-101410_tfMRI_MOTOR_LR.nii')\n",
    "run1_json = op.join(bids_func, 'task-motor_bold.json')\n",
    "\n",
    "img = nib.load(run1_bold)\n",
    "n_vols = img.shape[-1]\n",
    "\n",
    "with open(run1_json) as f:\n",
    "    meta = json.load(f)\n",
    "TR = meta.get('RepetitionTime')  # in seconds\n",
    "\n",
    "offset = n_vols * TR  # duration of run 1 in seconds\n",
    "\n",
    "# Shift onsets for run 2\n",
    "ev2['onset'] = ev2['onset'].astype(float) + float(offset)\n",
    "\n",
    "# Concatenate, sort by time, and save\n",
    "events = pd.concat([ev1, ev2], ignore_index=True)\n",
    "events = events.sort_values('onset', kind='mergesort')  # stable sort\n",
    "events.to_csv(op.join(bids_func, 'combined_events.tsv'), sep='\\t', index=False)"
   ]
  },
  {
   "cell_type": "markdown",
   "id": "ed4bd618-5188-40f0-8295-537d1e1bb956",
   "metadata": {},
   "source": [
    "#### Creating a first level design matrix"
   ]
  },
  {
   "cell_type": "code",
   "execution_count": 5,
   "id": "e505c614-cad3-457c-aef0-0f2453f4b49b",
   "metadata": {},
   "outputs": [
    {
     "name": "stderr",
     "output_type": "stream",
     "text": [
      "/opt/conda/lib/python3.11/site-packages/nilearn/glm/first_level/experimental_paradigm.py:198: UserWarning: Duplicated events were detected. Amplitudes of these events will be summed. You might want to verify your inputs.\n",
      "  warnings.warn(\n",
      "/opt/conda/lib/python3.11/site-packages/nilearn/glm/first_level/first_level.py:707: UserWarning: Mean values of 0 observed. The data have probably been centered.Scaling might not work as expected\n",
      "  Y, _ = mean_scaling(Y, self.signal_scaling)\n"
     ]
    }
   ],
   "source": [
    "from nilearn.glm.first_level import make_first_level_design_matrix, FirstLevelModel\n",
    "\n",
    "# Specify what sort of GLM we want (nature of the noise, repetition time of the data and other parameters)\n",
    "fmri_glm = FirstLevelModel(t_r=TR,\n",
    "                           noise_model='ar1',\n",
    "                           standardize=False,\n",
    "                           hrf_model='spm',\n",
    "                           drift_model=None,\n",
    "                           high_pass=.01)"
   ]
  },
  {
   "cell_type": "markdown",
   "id": "7dd955e2-a49e-4d56-8846-7d78fb33cc19",
   "metadata": {},
   "source": [
    "#### Displaying the resulting design matrix"
   ]
  },
  {
   "cell_type": "code",
   "execution_count": 6,
   "id": "1a1d0afe-9186-4736-bbc5-a499a15e4645",
   "metadata": {},
   "outputs": [
    {
     "data": {
      "image/png": "[encoded data removed]",
      "text/plain": [
       "<Figure size 284x1000 with 1 Axes>"
      ]
     },
     "metadata": {},
     "output_type": "display_data"
    }
   ],
   "source": [
    "from nilearn.plotting import plot_design_matrix\n",
    "plot_design_matrix(fmri_glm.design_matrices_[0])\n",
    "plt.show()"
   ]
  },
  {
   "cell_type": "markdown",
   "id": "873d36e7-415f-4a75-a45c-541433c986ee",
   "metadata": {},
   "source": [
    "#### Report the experimental design matrix to use for this subject, which you will be using in the following GLM analysis.\n"
   ]
  },
  {
   "cell_type": "markdown",
   "id": "84517ba1-a695-4dcb-9fc6-d2b97c75ba21",
   "metadata": {},
   "source": [
    "## 4 : GLM run\n",
    "Run the GLM at the level you deem reasonable and report the statistical maps of\n",
    "each of the task-related regressors. Briefly comment on the statistical maps and, if\n",
    "you can, relate them to the corresponding task."
   ]
  },
  {
   "cell_type": "code",
   "execution_count": null,
   "id": "aa336808-b34a-4260-bc4d-d7d90108a3b1",
   "metadata": {},
   "outputs": [],
   "source": [
    "# Fit the model to our design and data\n",
    "fmri_glm = fmri_glm.fit(concat_tfMRI_data_path, events)"
   ]
  },
  {
   "cell_type": "markdown",
   "id": "efb253f4-20f5-48f0-9aaa-cf416a97f094",
   "metadata": {},
   "source": [
    "## 5 : Hand motion vs feet motion activation map\n",
    "Using the results of the GLM analysis and a contrast vector of your choice, create the\n",
    "activation maps corresponding to the hand motion against feet motion. Please\n",
    "include in the report the contrast vector used and the contrast map you obtained.\n"
   ]
  },
  {
   "cell_type": "code",
   "execution_count": 6,
   "id": "c31cd8d4-8e02-4235-b42b-fbba4185c4c6",
   "metadata": {},
   "outputs": [
    {
     "data": {
      "text/plain": [
       "<Axes: label='conditions'>"
      ]
     },
     "execution_count": 6,
     "metadata": {},
     "output_type": "execute_result"
    },
    {
     "data": {
      "image/png": "[encoded data removed]",
      "text/plain": [
       "<Figure size 320x182 with 1 Axes>"
      ]
     },
     "metadata": {},
     "output_type": "display_data"
    }
   ],
   "source": [
    "# Create the dictionary of the conditions\n",
    "conditions = {\n",
    "    'hand_motion': np.array([0, 0, 1, 0, 1, 0, 0, 0]),\n",
    "    'feet_motion':np.array([0, 0, 0, 1, 0, 1, 0, 0])\n",
    "}\n",
    "\n",
    "hand_mot_vs_feet_mot = conditions['hand_motion'] - conditions['feet_motion']\n",
    "\n",
    "from nilearn.plotting import plot_contrast_matrix\n",
    "plot_contrast_matrix(hand_mot_vs_feet_mot, design_matrix=fmri_glm.design_matrices_[0])"
   ]
  },
  {
   "cell_type": "code",
   "execution_count": 9,
   "id": "1f6c7342-a50f-4f39-8e55-2517a951d70e",
   "metadata": {},
   "outputs": [
    {
     "data": {
      "text/plain": [
       "<nilearn.plotting.displays._slicers.ZSlicer at 0x752a35d97990>"
      ]
     },
     "execution_count": 9,
     "metadata": {},
     "output_type": "execute_result"
    },
    {
     "data": {
      "image/png": "[encoded data removed]",
      "text/plain": [
       "<Figure size 730x320 with 5 Axes>"
      ]
     },
     "metadata": {},
     "output_type": "display_data"
    }
   ],
   "source": [
    "z_map = fmri_glm.compute_contrast(hand_mot_vs_feet_mot,\n",
    "                                  output_type='z_score')\n",
    "image_path = path_moco_data + \".nii.gz\"\n",
    "\n",
    "z_map_uncorrected_path = op.join(preproc_func_path, 'sub-{}_hand_mot_vs_feet_mot_z_map_uncorrected.nii.gz'.format(subject_id))\n",
    "nib.save(z_map, z_map_uncorrected_path)\n",
    "\n",
    "from nilearn.plotting import plot_stat_map\n",
    "from nilearn.image import mean_img\n",
    "mean_img_ = mean_img(image_path),\n",
    "plot_stat_map(z_map, bg_img=mean_img_[0], threshold=3.0,\n",
    "              display_mode='z', cut_coords=[-3,37,70], black_bg=True,\n",
    "              title='Hand motion minus fett motion (Z>3)')"
   ]
  },
  {
   "cell_type": "code",
   "execution_count": 10,
   "id": "7dfb5f24-5aa0-4143-ab0b-c85464c914e9",
   "metadata": {},
   "outputs": [
    {
     "data": {
      "text/plain": [
       "<nilearn.plotting.displays._slicers.ZSlicer at 0x752a34305a50>"
      ]
     },
     "execution_count": 10,
     "metadata": {},
     "output_type": "execute_result"
    },
    {
     "data": {
      "image/png": "[encoded data removed]",
      "text/plain": [
       "<Figure size 730x320 with 5 Axes>"
      ]
     },
     "metadata": {},
     "output_type": "display_data"
    }
   ],
   "source": [
    "from nilearn.glm import threshold_stats_img\n",
    "\n",
    "#Link to threshold_stats_img function documentation\n",
    "#https://nilearn.github.io/dev/modules/generated/nilearn.glm.threshold_stats_img.html\n",
    "\n",
    "cluster_size = 10 # Nmber of voxels for a cluster to be kept\n",
    "fdr_rate = 0.05 # fdr rate to use!\n",
    "\n",
    "# Here, we apply the FDR correction + threshold\n",
    "clean_map, threshold = threshold_stats_img(z_map, alpha=fdr_rate, height_control='fdr', cluster_threshold=cluster_size)\n",
    "\n",
    "# And this is just to plot here!\n",
    "plot_stat_map(clean_map, bg_img=mean_img_[0], threshold=threshold,\n",
    "              display_mode='z', cut_coords=[-3,37,70], black_bg=True,\n",
    "              title='Hand motion minus fett motion (fdr={}, threshold={}), clusters > {} voxels'.format(fdr_rate, threshold, cluster_size))"
   ]
  },
  {
   "cell_type": "code",
   "execution_count": null,
   "id": "bf287b50-dbc8-4ebe-8eb0-79b627c07151",
   "metadata": {},
   "outputs": [],
   "source": [
    "fsleyesDisplay.resetOverlays()\n",
    "fsleyesDisplay.load('localizer_population_cleaned_map.nii.gz')"
   ]
  },
  {
   "cell_type": "markdown",
   "id": "61a48cfb-7d23-4688-8725-75e75551dc89",
   "metadata": {},
   "source": [
    "## 6 : Contrast map and AAL atlas parcellation overlay\n",
    "To better interpret your results, overlay the contrast map with the AAL atlas\n",
    "parcellation (hint: take a look at NiLearn). Report in which brain regions you find\n",
    "maximal contrast. (Note: the functional data are already in MNI space, so there is no\n",
    "need to do coregistration and normalization!)"
   ]
  },
  {
   "cell_type": "code",
   "execution_count": null,
   "id": "8dcaad9c-93d0-4e2c-8010-86a50a5705dd",
   "metadata": {},
   "outputs": [],
   "source": []
  },
  {
   "cell_type": "markdown",
   "id": "bae38658-3b11-4721-93c9-9786f095c072",
   "metadata": {},
   "source": [
    "# Practicals part 2 - KMeans clustering\n",
    "\n",
    "1. Apply K-means clustering on the subject fMRI runs, considering one volume as one\n",
    "sample.\n",
    "2. Select a number of clusters of your choice to keep while providing a justification for\n",
    "your choice. Show each of the centroids separately overlaid on the anatomy, in axial\n",
    "view only.\n",
    "3. Compute the pairwise similarity (using a similarity measure of your choice) of the first\n",
    "5 (independently on the choice you made on point 2) obtained centroids. Report the\n",
    "similarity matrix."
   ]
  },
  {
   "cell_type": "markdown",
   "id": "53329690-4562-4f8c-881e-6c48d16b92b4",
   "metadata": {},
   "source": [
    "## 1 : Data loading and Preprocessing"
   ]
  },
  {
   "cell_type": "code",
   "execution_count": null,
   "id": "dc1fd6f0-6516-4e02-ac48-b57e9bbc7974",
   "metadata": {},
   "outputs": [],
   "source": [
    "data_for_KMeans_path = path_moco_data\n",
    "\n",
    "img = nib.load(op.join(data_for_KMeans_path))\n",
    "affine = img.affine\n",
    "data = np.asanyarray(img.dataobj)\n",
    "\n",
    "vol_shape = data.shape[:3]\n",
    "n_vols = data.shape[3]\n",
    "\n",
    "# Background (encoded as 0) removal\n",
    "first_volume = data[:,:,:,0]\n",
    "mask_non_background = first_volume > 0\n",
    "# Vectorize : Taking only non-zero voxels into a vector \n",
    "samples = data[mask_non_background, :]\n",
    "\n",
    "# Calculate the mean of voxels for each timepoint\n",
    "spatial_means = np.mean(samples, axis=0)\n",
    "# Subtracting the mean to all voxels for each timepoint\n",
    "row_means = np.tile(spatial_means, (samples.shape[0], 1))\n",
    "X = samples - row_means"
   ]
  },
  {
   "cell_type": "markdown",
   "id": "45a2bbc8-7920-495d-8e08-8917600c831d",
   "metadata": {},
   "source": [
    "## 2 : Applying KMeans"
   ]
  },
  {
   "cell_type": "markdown",
   "id": "36ad6de6-5027-41b5-b288-f6163865e3c5",
   "metadata": {},
   "source": [
    "#### Testing resulting inertia for different numbers of clusters"
   ]
  },
  {
   "cell_type": "code",
   "execution_count": null,
   "id": "17615478-284a-4dae-ae95-8914c97a3961",
   "metadata": {},
   "outputs": [],
   "source": [
    "from sklearn.cluster import KMeans\n",
    "\n",
    "# Computing the inertia (average distance between samples and their respective clusters) for different numbers of clusters\n",
    "max_nb_clusters = 20\n",
    "inertia = []\n",
    "for nb_cluster in range(1, max_nb_clusters):\n",
    "    kmeans = KMeans(n_clusters=nb_cluster, random_state=0, n_init=\"auto\").fit(X.T) # X.T is of shape (n_timepoints, n_voxels) i.e. (n_samples, n_features) \n",
    "    inertia.append(kmeans.inertia_)"
   ]
  },
  {
   "cell_type": "markdown",
   "id": "87e06d59-2653-4042-b016-d2aafe55c91e",
   "metadata": {},
   "source": [
    "#### Displaying the inertia per cluster number"
   ]
  },
  {
   "cell_type": "code",
   "execution_count": null,
   "id": "94a4b24e-7a4e-4eaa-9bc7-4b743ac7cc2e",
   "metadata": {},
   "outputs": [],
   "source": [
    "fig, ax = plt.subplots(1, figsize=(7,5))\n",
    "\n",
    "ax.plot(np.arange(1, len(inertia)+1), inertia, label='explained variance ratios', c='k')\n",
    "\n",
    "ax.set_xlabel('Clusters #', size=15)\n",
    "ax.legend(prop={'size':15})\n",
    "ax.tick_params(axis='both', which='major', labelsize=15)"
   ]
  },
  {
   "cell_type": "markdown",
   "id": "9eb228ba-d4d7-43ee-ac04-ed7c9e63b4eb",
   "metadata": {},
   "source": [
    "#### Applying KMeans with the determined number of clusters and building mean spatial patterns"
   ]
  },
  {
   "cell_type": "code",
   "execution_count": 1,
   "id": "bd8df4dc-ab1a-4811-9170-5e59fc314402",
   "metadata": {},
   "outputs": [
    {
     "ename": "NameError",
     "evalue": "name 'KMeans' is not defined",
     "output_type": "error",
     "traceback": [
      "\u001b[0;31m---------------------------------------------------------------------------\u001b[0m",
      "\u001b[0;31mNameError\u001b[0m                                 Traceback (most recent call last)",
      "Cell \u001b[0;32mIn[1], line 2\u001b[0m\n\u001b[1;32m      1\u001b[0m nb_clusters \u001b[38;5;241m=\u001b[39m \u001b[38;5;241m3\u001b[39m\n\u001b[0;32m----> 2\u001b[0m kmeans \u001b[38;5;241m=\u001b[39m \u001b[43mKMeans\u001b[49m(n_clusters\u001b[38;5;241m=\u001b[39mnb_cluster, random_state\u001b[38;5;241m=\u001b[39m\u001b[38;5;241m0\u001b[39m, n_init\u001b[38;5;241m=\u001b[39m\u001b[38;5;124m\"\u001b[39m\u001b[38;5;124mauto\u001b[39m\u001b[38;5;124m\"\u001b[39m)\u001b[38;5;241m.\u001b[39mfit(X_kmeans\u001b[38;5;241m.\u001b[39mT)\n\u001b[1;32m      4\u001b[0m \u001b[38;5;66;03m# One label per time point\u001b[39;00m\n\u001b[1;32m      5\u001b[0m time_labels \u001b[38;5;241m=\u001b[39m kmeans\u001b[38;5;241m.\u001b[39mlabels_  \u001b[38;5;66;03m# shape: (n_timepoints,)\u001b[39;00m\n",
      "\u001b[0;31mNameError\u001b[0m: name 'KMeans' is not defined"
     ]
    }
   ],
   "source": [
    "# The number of clusters is to be determined from the last graph\n",
    "nb_clusters = 3\n",
    "kmeans = KMeans(n_clusters=nb_cluster, random_state=0, n_init=\"auto\").fit(X.T)\n",
    "\n",
    "# One label per time point\n",
    "time_labels = kmeans.labels_  # shape: (n_timepoints,)\n",
    "\n",
    "# Build a mean spatial pattern for each state (average the volumes in that state)\n",
    "kmeans_clusters = []  # one 3D volume per state (mean pattern)\n",
    "for c in range(nb_clusters):\n",
    "    idx = (time_labels == c)\n",
    "    # Mean across selected timepoints -> vector (n_voxels,)\n",
    "    mean_pattern = X[:, idx].mean(axis=1)\n",
    "    vol = np.zeros(mask_non_background.shape)\n",
    "    vol[mask_non_background] = mean_pattern\n",
    "    kmeans_clusters.append(vol)"
   ]
  },
  {
   "cell_type": "markdown",
   "id": "0eeb7b45-b2e9-40f5-a877-9f4fbea18136",
   "metadata": {},
   "source": [
    "#### Displaying the resulting temporal states"
   ]
  },
  {
   "cell_type": "code",
   "execution_count": null,
   "id": "8794eeda-7d8f-42c3-9ce8-99750683af86",
   "metadata": {},
   "outputs": [],
   "source": [
    "from nilearn.plotting import plot_stat_map\n",
    "from nilearn.image import mean_img\n",
    "mean_img_ = mean_img(img)\n",
    "visual_idx = 0\n",
    "plot_stat_map(nib.Nifti1Image(kmeans_clusters[visual_idx], affine), bg_img=mean_img_, threshold=0,\n",
    "               cut_coords=[49,37,00], black_bg=True,\n",
    "              title=f'K-means Cluster {visual_idx}')\n",
    "\n",
    "plt.show()"
   ]
  }
 ],
 "metadata": {
  "kernelspec": {
   "display_name": "Python 3 (ipykernel)",
   "language": "python",
   "name": "python3"
  },
  "language_info": {
   "codemirror_mode": {
    "name": "ipython",
    "version": 3
   },
   "file_extension": ".py",
   "mimetype": "text/x-python",
   "name": "python",
   "nbconvert_exporter": "python",
   "pygments_lexer": "ipython3",
   "version": "3.11.6"
  }
 },
 "nbformat": 4,
 "nbformat_minor": 5
}
